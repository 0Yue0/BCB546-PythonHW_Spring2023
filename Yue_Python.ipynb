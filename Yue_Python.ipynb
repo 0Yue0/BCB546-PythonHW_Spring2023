{
 "cells": [
  {
   "cell_type": "markdown",
   "id": "b47c67ac",
   "metadata": {},
   "source": [
    "# BCB 546  Python Assignment"
   ]
  },
  {
   "cell_type": "markdown",
   "id": "6816b34d",
   "metadata": {},
   "source": [
    "## Dependency\n",
    "\n",
    "BioPython\n"
   ]
  },
  {
   "cell_type": "markdown",
   "id": "3b932f47",
   "metadata": {},
   "source": [
    "\n",
    "## Task 1: Get sequence from fasta files\n",
    "\n"
   ]
  },
  {
   "cell_type": "markdown",
   "id": "2553d23f",
   "metadata": {},
   "source": [
    "### Function: get_sequences_from_file(fasta_fn)\n",
    "\n",
    "**Description:** Get sequence from a fasta file into dictionary format\n",
    "\n",
    "**Arguments:**\n",
    "\n",
    "* fasta_fn: fasta file\n",
    "\n",
    "**Return:** dictionaries, containing sequences with their species names\n"
   ]
  },
  {
   "cell_type": "code",
   "execution_count": 1,
   "id": "6698aa93",
   "metadata": {},
   "outputs": [],
   "source": [
    "from Bio import SeqIO\n",
    "\n",
    "def get_sequences_from_file(fasta_fn):           # define a function\n",
    "    sequence_data_dict = {}                      # return sequence data in dictionary format \n",
    "    \n",
    "    for record in SeqIO.parse(fasta_fn, \"fasta\"):# a for-loop over every record of the fasta file, discription and sequence are seperated\n",
    "        description = record.description.split() # split the discription of the record\n",
    "        species_name = description[1] + \" \" + description[2] # define species names with 1st and 2nd elements in splitted discription\n",
    "        sequence_data_dict[species_name] = record.seq        # output the sequence with the corrisponding species name\n",
    "    return(sequence_data_dict)                   # return each sequence with species name"
   ]
  },
  {
   "cell_type": "code",
   "execution_count": 3,
   "id": "939b57ae",
   "metadata": {},
   "outputs": [],
   "source": [
    "# read the fatsta file with the defined function\n",
    "\n",
    "penguin_seq = get_sequences_from_file(\"penguins_cytb.fasta\")"
   ]
  },
  {
   "cell_type": "code",
   "execution_count": 4,
   "id": "25156378",
   "metadata": {},
   "outputs": [
    {
     "data": {
      "text/plain": [
       "{'Aptenodytes forsteri': Seq('ATGGCCCCAAATCTCCGAAAATCCCATCCCCTCCTAAAAATAATTAATAACTCC...TAA'),\n",
       " 'Aptenodytes patagonicus': Seq('ATGGCCCCAAACCTCCGAAAATCCCATCCTCTCCTAAAAATAATTAATAACTCC...TAA'),\n",
       " 'Eudyptes chrysocome': Seq('ATGGCCCCCAACCTCCGAAAATCCCACCCCCTCCTAAAAACAATCAATAACTCC...TAA'),\n",
       " 'Eudyptes chrysolophus': Seq('ATGGCCCCCAACCTCCGAAAATCCCACCCCCTCCTAAAAACAATCAATAACTCC...TAA'),\n",
       " 'Eudyptes sclateri': Seq('ATGGCCCCCAACCTCCGAAAATCCCACCCCCTCCTAAAAACAATCAATAACTCC...TAA'),\n",
       " 'Eudyptula minor': Seq('ATGGCCCCCAACCTCCGAAAATCTCACCCCCTCCTAAAAATAATCAACAACTCT...TAA'),\n",
       " 'Pygoscelis adeliae': Seq('ATGGCCCCCAACCTCCGAAAATCCCACCCTCTCCTAAAAATAATTAACAACTCC...TAA'),\n",
       " 'Pygoscelis antarctica': Seq('ATGGCCCCCAACCTCCGAAAATCCCACCCTCTCCTAAAAATAATCAACAACTCC...TAG'),\n",
       " 'Pygoscelis papua': Seq('ATGGCCCCCAACCTTCGAAAATCCCACCCTCTCCTAAAAATAATCAACAAATCC...TAG'),\n",
       " 'Spheniscus demersus': Seq('ATGGCCCCCAACCTCCGAAAATCCCACCCTCTCCTAAAAACAATCAACAACTCC...TAA'),\n",
       " 'Spheniscus humboldti': Seq('ATGGCCCCCAACCTCCGAAAATCCCACCCTCTCCTAAAAACAATCAACAACTCC...TAA'),\n",
       " 'Spheniscus magellanicus': Seq('ATGGCCCCCAACCTCCGAAAATCCCACCCTCTCCTAAAAACAATCAACAACTCC...TAA')}"
      ]
     },
     "execution_count": 4,
     "metadata": {},
     "output_type": "execute_result"
    }
   ],
   "source": [
    "# inspection of the read file\n",
    "penguin_seq"
   ]
  },
  {
   "cell_type": "code",
   "execution_count": 5,
   "id": "1e154ae5",
   "metadata": {},
   "outputs": [
    {
     "data": {
      "text/plain": [
       "dict"
      ]
     },
     "execution_count": 5,
     "metadata": {},
     "output_type": "execute_result"
    }
   ],
   "source": [
    "len(penguin_seq)\n",
    "\n",
    "type(penguin_seq)"
   ]
  },
  {
   "cell_type": "markdown",
   "id": "7bd223d9",
   "metadata": {},
   "source": [
    "## Task 2: Translate DNA to AA\n",
    "\n",
    "### Function: dna_to_aa(dna_string)\n",
    "\n",
    "**Description:** translate DNA sequence into amino acids, return a string\n",
    "\n",
    "**Arguments:**\n",
    "\n",
    "* dna_string: string that contains DNA sequence\n",
    "**Return:** sting, containing aa sequence\n",
    "\n"
   ]
  },
  {
   "cell_type": "code",
   "execution_count": 208,
   "id": "4d5e8565",
   "metadata": {},
   "outputs": [],
   "source": [
    "from Bio.Data import CodonTable\n",
    "\n",
    "\n",
    "def dna_to_aa(dna_string):\n",
    "    \n",
    "    # using this specific codon table \n",
    "    mito_table = CodonTable.unambiguous_dna_by_name[\"Vertebrate Mitochondrial\"]\n",
    "    \n",
    "    # convert stop codons into asterisks to make sure the following tranlation loop will not choke\n",
    "    mito_table.forward_table[\"TAA\"] = \"*\"\n",
    "    mito_table.forward_table[\"TAG\"] = \"*\"\n",
    "    mito_table.forward_table[\"AGG\"] = \"*\"\n",
    "    mito_table.forward_table[\"AGA\"] = \"*\"\n",
    "    \n",
    "    aa_seq = \"\"\n",
    "   \n",
    "    for i in range(0,len(dna_string),3):\n",
    "        codon = dna_string[i:i+3]                  # through every 3rd position to get codon \n",
    "        aa = mito_table.forward_table[codon]    # retrieve the amino acid\n",
    "        if aa !='*':                            \n",
    "            aa_seq += aa\n",
    "        else:\n",
    "            break\n",
    "        \n",
    "    return aa_seq"
   ]
  },
  {
   "cell_type": "code",
   "execution_count": 257,
   "id": "8be7eae0",
   "metadata": {
    "scrolled": true
   },
   "outputs": [],
   "source": [
    "first_aa = dna_to_aa(penguin_seq['Aptenodytes forsteri'])"
   ]
  },
  {
   "cell_type": "code",
   "execution_count": 258,
   "id": "21039018",
   "metadata": {
    "scrolled": true
   },
   "outputs": [
    {
     "data": {
      "text/plain": [
       "'MAPNLRKSHPLLKMINNSLIDLPTPSNISAWWNFGSLLGICLTTQILTGLLLAMHYTADTTLAFSSVAHTCRNVQYGWLIRNLHANGASFFFICIYLHIGRGFYYGSYLYKETWNTGIILLLTLMATAFVGYVLPWGQMSFWGATVITNLFSAIPYIGQTLVEWTWGGFSVDNPTLTRFFALHFLLPFMIAGLTLIHLTFLHESGSNNPLGIVANSDKIPFHPYYSTKDILGFALMLLPLTTLALFSPNLLGDPENFTPANPLVTPPHIKPEWYFLFAYAILRSIPNKLGGVLALAASVLILFLIPLLHKSKQRTMAFRPLSQLLFWALVANLIILTWVGSQPVEHPFIIIGQLASLTYFTTLLILFPIAGALENKMLNH'"
      ]
     },
     "execution_count": 258,
     "metadata": {},
     "output_type": "execute_result"
    }
   ],
   "source": [
    "first_aa"
   ]
  },
  {
   "cell_type": "code",
   "execution_count": 288,
   "id": "5faed3e6",
   "metadata": {},
   "outputs": [
    {
     "data": {
      "text/plain": [
       "380"
      ]
     },
     "execution_count": 288,
     "metadata": {},
     "output_type": "execute_result"
    }
   ],
   "source": [
    "len(first_aa)"
   ]
  },
  {
   "cell_type": "markdown",
   "id": "4b319e9c",
   "metadata": {},
   "source": [
    "## Task 3:  Alternative way to translate DNA to AA\n",
    "\n",
    "\n",
    "### Functio:  translate_sequences(dna_dict)\n",
    "\n",
    "**Description:** Translate DNA sequence into amino acids in dictionaries\n",
    "\n",
    "**Arguments:**\n",
    "\n",
    "* dna_dict: dictionaries that contain DNA sequences and their names\n",
    "\n",
    "**Return:** dictionaries, containing amino acids sequences with their species names\n",
    "\n",
    "\n",
    "\n",
    "\n",
    "**Reference:** http://biopython.org/DIST/docs/tutorial/Tutorial.html#sec25\n"
   ]
  },
  {
   "cell_type": "code",
   "execution_count": 27,
   "id": "4b123813",
   "metadata": {},
   "outputs": [],
   "source": [
    "from Bio.Seq import Seq\n",
    "\n",
    "def translate_sequences(dna_dict):                 \n",
    "    aa_dict = {}\n",
    "    \n",
    "    for name, dna_seq in dna_dict.items():\n",
    "        aa_seq = dna_seq.translate(to_stop = False)    # leave stop codon off\n",
    "        aa_dict[name] = aa_seq\n",
    "    return aa_dict"
   ]
  },
  {
   "cell_type": "code",
   "execution_count": 290,
   "id": "c2996561",
   "metadata": {
    "scrolled": true
   },
   "outputs": [],
   "source": [
    "aa_3 = translate_sequences(penguin_seq)"
   ]
  },
  {
   "cell_type": "code",
   "execution_count": 291,
   "id": "12147a6c",
   "metadata": {},
   "outputs": [
    {
     "data": {
      "text/plain": [
       "Seq('MAPNLRKSHPLLKIINNSLIDLPTPSNISA**NFGSLLGICLTTQILTGLLLAI...NH*')"
      ]
     },
     "execution_count": 291,
     "metadata": {},
     "output_type": "execute_result"
    }
   ],
   "source": [
    "aa_3['Aptenodytes forsteri']"
   ]
  },
  {
   "cell_type": "code",
   "execution_count": null,
   "id": "f7808ee0",
   "metadata": {},
   "outputs": [],
   "source": [
    "aa_3['']"
   ]
  },
  {
   "cell_type": "code",
   "execution_count": 16,
   "id": "ea7c9c29",
   "metadata": {},
   "outputs": [],
   "source": [
    "penguin_aa = translate_sequences(penguin_seq)"
   ]
  },
  {
   "cell_type": "code",
   "execution_count": 20,
   "id": "bffa9602",
   "metadata": {},
   "outputs": [
    {
     "data": {
      "text/plain": [
       "Seq('MAPNLRKSHPLLKIINNSLIDLPTPSNISA**NFGSLLGICLTTQILTGLLLAI...NH*')"
      ]
     },
     "execution_count": 20,
     "metadata": {},
     "output_type": "execute_result"
    }
   ],
   "source": [
    "aa_3[\"Aptenodytes forsteri\"]"
   ]
  },
  {
   "cell_type": "code",
   "execution_count": 59,
   "id": "bfcf59b8",
   "metadata": {
    "scrolled": true
   },
   "outputs": [
    {
     "data": {
      "text/plain": [
       "'MAPNLRKSHPLLKMINNSLIDLPTPSNISAWWNFGSLLGICLTTQILTGLLLAMHYTADTTLAFSSVAHTCRNVQYGWLIRNLHANGASFFFICIYLHIGRGFYYGSYLYKETWNTGIILLLTLMATAFVGYVLPWGQMSFWGATVITNLFSAIPYIGQTLVEWTWGGFSVDNPTLTRFFALHFLLPFMIAGLTLIHLTFLHESGSNNPLGIVANSDKIPFHPYYSTKDILGFALMLLPLTTLALFSPNLLGDPENFTPANPLVTPPHIKPEWYFLFAYAILRSIPNKLGGVLALAASVLILFLIPLLHKSKQRTMAFRPLSQLLFWALVANLIILTWVGSQPVEHPFIIIGQLASLTYFTTLLILFPIAGALENKMLNH'"
      ]
     },
     "execution_count": 59,
     "metadata": {},
     "output_type": "execute_result"
    }
   ],
   "source": [
    "aa_2[\"Aptenodytes forsteri\"]"
   ]
  },
  {
   "cell_type": "code",
   "execution_count": 18,
   "id": "40112c43",
   "metadata": {},
   "outputs": [
    {
     "data": {
      "text/plain": [
       "381"
      ]
     },
     "execution_count": 18,
     "metadata": {},
     "output_type": "execute_result"
    }
   ],
   "source": [
    "len(aa_3[\"Aptenodytes forsteri\"])"
   ]
  },
  {
   "cell_type": "code",
   "execution_count": 35,
   "id": "ad19df4c",
   "metadata": {},
   "outputs": [
    {
     "data": {
      "text/plain": [
       "380"
      ]
     },
     "execution_count": 35,
     "metadata": {},
     "output_type": "execute_result"
    }
   ],
   "source": [
    "len(aa_2[\"Aptenodytes forsteri\"])"
   ]
  },
  {
   "cell_type": "markdown",
   "id": "d7d7afc4",
   "metadata": {},
   "source": [
    "## Task 4: Compute protein molecular weight\n",
    "\n",
    "### Function: compute_molecular_weight(aa_string)\n",
    "\n",
    "\n",
    "**Description:** count protein molecular weight\n",
    "\n",
    "**Arguments:**\n",
    "\n",
    "* aa_string: string that contains amino acids sequence\n",
    "\n",
    "**Return:** a number that indicates the molecular weight of a protein sequence\n",
    "\n",
    "\n",
    "**Reference:** https://biopython.org/wiki/ProtParam\n",
    "\n"
   ]
  },
  {
   "cell_type": "code",
   "execution_count": 275,
   "id": "b6f1bc81",
   "metadata": {},
   "outputs": [],
   "source": [
    "from Bio.SeqUtils.ProtParam import ProteinAnalysis\n",
    "\n",
    "def compute_molecular_weight(aa_string):\n",
    "    analysed_aa_seq = ProteinAnalysis(aa_string)      # retrieve protein sequence (string format) from dictionaries to compute molecular weight \n",
    "    aa_weight = analysed_aa_seq.molecular_weight()\n",
    "    return aa_weight"
   ]
  },
  {
   "cell_type": "code",
   "execution_count": 276,
   "id": "4782e4b0",
   "metadata": {},
   "outputs": [
    {
     "data": {
      "text/plain": [
       "Seq('ATGGCCCCAAATCTCCGAAAATCCCATCCCCTCCTAAAAATAATTAATAACTCC...TAA')"
      ]
     },
     "execution_count": 276,
     "metadata": {},
     "output_type": "execute_result"
    }
   ],
   "source": [
    "penguin_seq['Aptenodytes forsteri']"
   ]
  },
  {
   "cell_type": "code",
   "execution_count": 280,
   "id": "f3e72498",
   "metadata": {},
   "outputs": [],
   "source": [
    "first_aa_weight = compute_molecular_weight(first_aa)"
   ]
  },
  {
   "cell_type": "code",
   "execution_count": 281,
   "id": "f60aca0b",
   "metadata": {},
   "outputs": [
    {
     "data": {
      "text/plain": [
       "42459.602100000004"
      ]
     },
     "execution_count": 281,
     "metadata": {},
     "output_type": "execute_result"
    }
   ],
   "source": [
    "first_aa_weight"
   ]
  },
  {
   "cell_type": "markdown",
   "id": "2c60c365",
   "metadata": {},
   "source": [
    "# Task 5: Count GC-content\n",
    "\n",
    "### Function: count_GC_content(dna_string)\n",
    "\n",
    "\n",
    "**Description:** count GC countent of DNA sequences in string format \n",
    "\n",
    "**Arguments:**\n",
    "\n",
    "* dna_string: DNA sequence \n",
    "\n",
    "**Return:** number indicate the GC content of a DNA sequence\n",
    "\n",
    "\n",
    "**Reference:** https://biopython.org/docs/1.75/api/Bio.SeqUtils.html\n",
    "\n"
   ]
  },
  {
   "cell_type": "code",
   "execution_count": 270,
   "id": "def7c4fb",
   "metadata": {},
   "outputs": [],
   "source": [
    "from Bio.SeqUtils import GC\n",
    "\n",
    "def count_GC_content(dna_string):\n",
    "    GC_content = GC(dna_string)\n",
    "    return GC_content"
   ]
  },
  {
   "cell_type": "code",
   "execution_count": 283,
   "id": "ac1bf542",
   "metadata": {},
   "outputs": [],
   "source": [
    "first_GC = count_GC_content(penguin_seq['Aptenodytes forsteri'])"
   ]
  },
  {
   "cell_type": "code",
   "execution_count": 284,
   "id": "98915358",
   "metadata": {
    "scrolled": true
   },
   "outputs": [
    {
     "data": {
      "text/plain": [
       "48.38145231846019"
      ]
     },
     "execution_count": 284,
     "metadata": {},
     "output_type": "execute_result"
    }
   ],
   "source": [
    "first_GC"
   ]
  },
  {
   "cell_type": "markdown",
   "id": "ded673f4",
   "metadata": {},
   "source": [
    "# Task 6\n",
    "\n",
    "### Add two new columns to the penguin DataFrame: (1) molecular weight and (2) GC content.\n",
    "###  Set the value to 'NaN' to indicate that these cells are currently empty."
   ]
  },
  {
   "cell_type": "code",
   "execution_count": 109,
   "id": "0fafffa7",
   "metadata": {},
   "outputs": [],
   "source": [
    "import pandas as pd\n",
    "import numpy as np\n",
    "\n",
    "penguins_df = pd.read_csv(\"penguins_mass.csv\") # Includes only data for body mass \n",
    "\n",
    "# adding new columns filled with NaN\n",
    "penguins_df = penguins_df.reindex(columns=penguins_df.columns.tolist() + ['molecular weight', 'GC content'])\n"
   ]
  },
  {
   "cell_type": "code",
   "execution_count": 111,
   "id": "82a69a19",
   "metadata": {
    "scrolled": true
   },
   "outputs": [
    {
     "data": {
      "text/html": [
       "<div>\n",
       "<style scoped>\n",
       "    .dataframe tbody tr th:only-of-type {\n",
       "        vertical-align: middle;\n",
       "    }\n",
       "\n",
       "    .dataframe tbody tr th {\n",
       "        vertical-align: top;\n",
       "    }\n",
       "\n",
       "    .dataframe thead th {\n",
       "        text-align: right;\n",
       "    }\n",
       "</style>\n",
       "<table border=\"1\" class=\"dataframe\">\n",
       "  <thead>\n",
       "    <tr style=\"text-align: right;\">\n",
       "      <th></th>\n",
       "      <th>species</th>\n",
       "      <th>mass</th>\n",
       "      <th>molecular weight</th>\n",
       "      <th>GC content</th>\n",
       "    </tr>\n",
       "  </thead>\n",
       "  <tbody>\n",
       "    <tr>\n",
       "      <th>0</th>\n",
       "      <td>Aptenodytes forsteri</td>\n",
       "      <td>28.00</td>\n",
       "      <td>NaN</td>\n",
       "      <td>NaN</td>\n",
       "    </tr>\n",
       "    <tr>\n",
       "      <th>1</th>\n",
       "      <td>Aptenodytes patagonicus</td>\n",
       "      <td>13.40</td>\n",
       "      <td>NaN</td>\n",
       "      <td>NaN</td>\n",
       "    </tr>\n",
       "    <tr>\n",
       "      <th>2</th>\n",
       "      <td>Eudyptes chrysocome</td>\n",
       "      <td>2.80</td>\n",
       "      <td>NaN</td>\n",
       "      <td>NaN</td>\n",
       "    </tr>\n",
       "    <tr>\n",
       "      <th>3</th>\n",
       "      <td>Eudyptes chrysolophus</td>\n",
       "      <td>4.50</td>\n",
       "      <td>NaN</td>\n",
       "      <td>NaN</td>\n",
       "    </tr>\n",
       "    <tr>\n",
       "      <th>4</th>\n",
       "      <td>Eudyptes sclateri</td>\n",
       "      <td>4.25</td>\n",
       "      <td>NaN</td>\n",
       "      <td>NaN</td>\n",
       "    </tr>\n",
       "    <tr>\n",
       "      <th>5</th>\n",
       "      <td>Eudyptula minor</td>\n",
       "      <td>1.60</td>\n",
       "      <td>NaN</td>\n",
       "      <td>NaN</td>\n",
       "    </tr>\n",
       "    <tr>\n",
       "      <th>6</th>\n",
       "      <td>Pygoscelis adeliae</td>\n",
       "      <td>4.60</td>\n",
       "      <td>NaN</td>\n",
       "      <td>NaN</td>\n",
       "    </tr>\n",
       "    <tr>\n",
       "      <th>7</th>\n",
       "      <td>Pygoscelis antarctica</td>\n",
       "      <td>4.10</td>\n",
       "      <td>NaN</td>\n",
       "      <td>NaN</td>\n",
       "    </tr>\n",
       "    <tr>\n",
       "      <th>8</th>\n",
       "      <td>Pygoscelis papua</td>\n",
       "      <td>6.10</td>\n",
       "      <td>NaN</td>\n",
       "      <td>NaN</td>\n",
       "    </tr>\n",
       "    <tr>\n",
       "      <th>9</th>\n",
       "      <td>Spheniscus demersus</td>\n",
       "      <td>3.20</td>\n",
       "      <td>NaN</td>\n",
       "      <td>NaN</td>\n",
       "    </tr>\n",
       "    <tr>\n",
       "      <th>10</th>\n",
       "      <td>Spheniscus humboldti</td>\n",
       "      <td>4.75</td>\n",
       "      <td>NaN</td>\n",
       "      <td>NaN</td>\n",
       "    </tr>\n",
       "    <tr>\n",
       "      <th>11</th>\n",
       "      <td>Spheniscus magellanicus</td>\n",
       "      <td>3.40</td>\n",
       "      <td>NaN</td>\n",
       "      <td>NaN</td>\n",
       "    </tr>\n",
       "  </tbody>\n",
       "</table>\n",
       "</div>"
      ],
      "text/plain": [
       "                    species   mass  molecular weight  GC content\n",
       "0      Aptenodytes forsteri  28.00               NaN         NaN\n",
       "1   Aptenodytes patagonicus  13.40               NaN         NaN\n",
       "2       Eudyptes chrysocome   2.80               NaN         NaN\n",
       "3     Eudyptes chrysolophus   4.50               NaN         NaN\n",
       "4         Eudyptes sclateri   4.25               NaN         NaN\n",
       "5           Eudyptula minor   1.60               NaN         NaN\n",
       "6        Pygoscelis adeliae   4.60               NaN         NaN\n",
       "7     Pygoscelis antarctica   4.10               NaN         NaN\n",
       "8          Pygoscelis papua   6.10               NaN         NaN\n",
       "9       Spheniscus demersus   3.20               NaN         NaN\n",
       "10     Spheniscus humboldti   4.75               NaN         NaN\n",
       "11  Spheniscus magellanicus   3.40               NaN         NaN"
      ]
     },
     "execution_count": 111,
     "metadata": {},
     "output_type": "execute_result"
    }
   ],
   "source": [
    "penguins_df"
   ]
  },
  {
   "cell_type": "code",
   "execution_count": null,
   "id": "8add8b80",
   "metadata": {},
   "outputs": [],
   "source": [
    "## 7 ##\n",
    "## Write a for-loop that translates each sequence and also gets molecular weight and computes the GC content\n",
    "## of each translated sequence and adds those data to DataFrame\n",
    "# for key, value in cytb_seqs.items():\n",
    "#     aa_seq = nuc2aa_translate_function(value) # whichever function you prefer of #2 or #3\n",
    "#     get the molecular weight of aa_seq\n",
    "#     get the GC content of the DNA sequence\n",
    "#     fill in empty cells in DF that you created above"
   ]
  },
  {
   "cell_type": "markdown",
   "id": "91438510",
   "metadata": {
    "scrolled": false
   },
   "source": [
    "# Task 7"
   ]
  },
  {
   "cell_type": "code",
   "execution_count": 121,
   "id": "4db2f215",
   "metadata": {},
   "outputs": [],
   "source": [
    "cytb_seqs = get_sequences_from_file(\"penguins_cytb.fasta\") \n",
    "\n",
    "penguins_df = pd.read_csv(\"penguins_mass.csv\") # Includes only data for body mass \n",
    "species_list = list(penguins_df.species)"
   ]
  },
  {
   "cell_type": "code",
   "execution_count": 154,
   "id": "d5441bda",
   "metadata": {},
   "outputs": [],
   "source": [
    "def fill_weight_GC (dna_dict):\n",
    "    \n",
    "    \n",
    "    for key, value in dna_dict.items():\n",
    "        dna_seq = value\n",
    "        aa = translate_sequences(dna_seq)\n",
    "        weight = dna_to_aa(aa)\n",
    "        GC = count_GC_content(weight)\n",
    "        \n",
    "        for i in species_list:\n",
    "            cytb_seqs.set_value('i', 'molecular weight', weight)\n",
    "            cytb_seqs.set_value('i','GC content', GC)\n",
    "    return df\n",
    "    "
   ]
  },
  {
   "cell_type": "code",
   "execution_count": 286,
   "id": "51a8ccd9",
   "metadata": {},
   "outputs": [],
   "source": [
    "def fill_weight_GC (dna_dict):\n",
    "    dna_all = {}\n",
    "    \n",
    "    for key, value in dna_dict.items():\n",
    "        dna_seq = value\n",
    "        aa = translate_sequences(dna_seq)\n",
    "        weight = dna_to_aa(aa)\n",
    "        GC = count_GC_content(weight)\n",
    "        dna_all[key] = ['weight', 'GC'] \n",
    "    return \n",
    "        "
   ]
  },
  {
   "cell_type": "code",
   "execution_count": 287,
   "id": "f2d609ed",
   "metadata": {},
   "outputs": [
    {
     "ename": "AttributeError",
     "evalue": "'Seq' object has no attribute 'items'",
     "output_type": "error",
     "traceback": [
      "\u001b[0;31m---------------------------------------------------------------------------\u001b[0m",
      "\u001b[0;31mAttributeError\u001b[0m                            Traceback (most recent call last)",
      "\u001b[0;32m/var/folders/2h/1_y9ty8s2m363v19llkvkmmc0000gn/T/ipykernel_1773/3420417584.py\u001b[0m in \u001b[0;36m<module>\u001b[0;34m\u001b[0m\n\u001b[0;32m----> 1\u001b[0;31m \u001b[0mfill_weight_GC\u001b[0m\u001b[0;34m(\u001b[0m\u001b[0mcytb_seqs\u001b[0m\u001b[0;34m)\u001b[0m\u001b[0;34m\u001b[0m\u001b[0;34m\u001b[0m\u001b[0m\n\u001b[0m",
      "\u001b[0;32m/var/folders/2h/1_y9ty8s2m363v19llkvkmmc0000gn/T/ipykernel_1773/554691466.py\u001b[0m in \u001b[0;36mfill_weight_GC\u001b[0;34m(dna_dict)\u001b[0m\n\u001b[1;32m      4\u001b[0m     \u001b[0;32mfor\u001b[0m \u001b[0mkey\u001b[0m\u001b[0;34m,\u001b[0m \u001b[0mvalue\u001b[0m \u001b[0;32min\u001b[0m \u001b[0mdna_dict\u001b[0m\u001b[0;34m.\u001b[0m\u001b[0mitems\u001b[0m\u001b[0;34m(\u001b[0m\u001b[0;34m)\u001b[0m\u001b[0;34m:\u001b[0m\u001b[0;34m\u001b[0m\u001b[0;34m\u001b[0m\u001b[0m\n\u001b[1;32m      5\u001b[0m         \u001b[0mdna_seq\u001b[0m \u001b[0;34m=\u001b[0m \u001b[0mvalue\u001b[0m\u001b[0;34m\u001b[0m\u001b[0;34m\u001b[0m\u001b[0m\n\u001b[0;32m----> 6\u001b[0;31m         \u001b[0maa\u001b[0m \u001b[0;34m=\u001b[0m \u001b[0mtranslate_sequences\u001b[0m\u001b[0;34m(\u001b[0m\u001b[0mdna_seq\u001b[0m\u001b[0;34m)\u001b[0m\u001b[0;34m\u001b[0m\u001b[0;34m\u001b[0m\u001b[0m\n\u001b[0m\u001b[1;32m      7\u001b[0m         \u001b[0mweight\u001b[0m \u001b[0;34m=\u001b[0m \u001b[0mdna_to_aa\u001b[0m\u001b[0;34m(\u001b[0m\u001b[0maa\u001b[0m\u001b[0;34m)\u001b[0m\u001b[0;34m\u001b[0m\u001b[0;34m\u001b[0m\u001b[0m\n\u001b[1;32m      8\u001b[0m         \u001b[0mGC\u001b[0m \u001b[0;34m=\u001b[0m \u001b[0mcount_GC_content\u001b[0m\u001b[0;34m(\u001b[0m\u001b[0mweight\u001b[0m\u001b[0;34m)\u001b[0m\u001b[0;34m\u001b[0m\u001b[0;34m\u001b[0m\u001b[0m\n",
      "\u001b[0;32m/var/folders/2h/1_y9ty8s2m363v19llkvkmmc0000gn/T/ipykernel_1773/327978864.py\u001b[0m in \u001b[0;36mtranslate_sequences\u001b[0;34m(dna_dict)\u001b[0m\n\u001b[1;32m      4\u001b[0m     \u001b[0maa_dict\u001b[0m \u001b[0;34m=\u001b[0m \u001b[0;34m{\u001b[0m\u001b[0;34m}\u001b[0m\u001b[0;34m\u001b[0m\u001b[0;34m\u001b[0m\u001b[0m\n\u001b[1;32m      5\u001b[0m \u001b[0;34m\u001b[0m\u001b[0m\n\u001b[0;32m----> 6\u001b[0;31m     \u001b[0;32mfor\u001b[0m \u001b[0mname\u001b[0m\u001b[0;34m,\u001b[0m \u001b[0mdna_seq\u001b[0m \u001b[0;32min\u001b[0m \u001b[0mdna_dict\u001b[0m\u001b[0;34m.\u001b[0m\u001b[0mitems\u001b[0m\u001b[0;34m(\u001b[0m\u001b[0;34m)\u001b[0m\u001b[0;34m:\u001b[0m\u001b[0;34m\u001b[0m\u001b[0;34m\u001b[0m\u001b[0m\n\u001b[0m\u001b[1;32m      7\u001b[0m         \u001b[0maa_seq\u001b[0m \u001b[0;34m=\u001b[0m \u001b[0mdna_seq\u001b[0m\u001b[0;34m.\u001b[0m\u001b[0mtranslate\u001b[0m\u001b[0;34m(\u001b[0m\u001b[0mto_stop\u001b[0m \u001b[0;34m=\u001b[0m \u001b[0;32mFalse\u001b[0m\u001b[0;34m)\u001b[0m    \u001b[0;31m# leave stop codon off\u001b[0m\u001b[0;34m\u001b[0m\u001b[0;34m\u001b[0m\u001b[0m\n\u001b[1;32m      8\u001b[0m         \u001b[0maa_dict\u001b[0m\u001b[0;34m[\u001b[0m\u001b[0mname\u001b[0m\u001b[0;34m]\u001b[0m \u001b[0;34m=\u001b[0m \u001b[0maa_seq\u001b[0m\u001b[0;34m\u001b[0m\u001b[0;34m\u001b[0m\u001b[0m\n",
      "\u001b[0;31mAttributeError\u001b[0m: 'Seq' object has no attribute 'items'"
     ]
    }
   ],
   "source": [
    "fill_weight_GC(cytb_seqs)"
   ]
  },
  {
   "cell_type": "code",
   "execution_count": 199,
   "id": "3efc025a",
   "metadata": {},
   "outputs": [],
   "source": [
    "def fill_weight_GC (dna_dict):\n",
    " \n",
    "    \n",
    "    for record in dna_dict:\n",
    "        aa_ = translate_sequences(dna_dict)\n",
    "        \n",
    "        for key, value in \n",
    "        weight_ = dna_to_aa(aa)\n",
    "        GC_= count_GC_content(weight)\n",
    "        \n",
    "        for key, value in processed_dict.items():\n",
    "            \n",
    "        \n",
    "    return dna_value"
   ]
  },
  {
   "cell_type": "code",
   "execution_count": 200,
   "id": "26e130b6",
   "metadata": {},
   "outputs": [
    {
     "data": {
      "text/plain": [
       "{'Aptenodytes forsteri': Seq('MAPNLRKSHPLLKIINNSLIDLPTPSNISA**NFGSLLGICLTTQILTGLLLAI...NH*'),\n",
       " 'Aptenodytes patagonicus': Seq('MAPNLRKSHPLLKIINNSLIDLPTPSNISA**NFGSLLGICLTTQILTGLLLAI...NH*'),\n",
       " 'Eudyptes chrysocome': Seq('MAPNLRKSHPLLKTINNSLIDLPTPSNISA**NFGSLLGICLATQILTGLLLAA...NH*'),\n",
       " 'Eudyptes chrysolophus': Seq('MAPNLRKSHPLLKTINNSLIDLPTPSNISA**NFGSLLGICLATQILTGLLLAA...NH*'),\n",
       " 'Eudyptes sclateri': Seq('MAPNLRKSHPLLKTINNSLIDLPTPSNISA**NFGSLLGICLATQILTGLLLAA...NH*'),\n",
       " 'Eudyptula minor': Seq('MAPNLRKSHPLLKIINNSLIDLPTPSNIST**NFGSLLGICLITQILTGLLLAA...SH*'),\n",
       " 'Pygoscelis adeliae': Seq('MAPNLRKSHPLLKIINNSLIDLPTPSNISA**NFGSLLGICLTTQILTGLLLAM...NH*'),\n",
       " 'Pygoscelis antarctica': Seq('MAPNLRKSHPLLKIINNSLIDLPTPSNISA**NFGSLLGICLTTQILTGLLLAI...NF*'),\n",
       " 'Pygoscelis papua': Seq('MAPNLRKSHPLLKIINKSLIDLPTPPNISA**NFGSLLGICLITQILTGLLLAI...NF*'),\n",
       " 'Spheniscus demersus': Seq('MAPNLRKSHPLLKTINNSLIDLPTPSNISA**NFGSLLGICLATQILTGLLLAA...NH*'),\n",
       " 'Spheniscus humboldti': Seq('MAPNLRKSHPLLKTINNSLIDLPTPSNISA**NFGSLLSICLATQILTGLLLAA...NH*'),\n",
       " 'Spheniscus magellanicus': Seq('MAPNLRKSHPLLKTINNSLIDLPTPSNISA**NFGSLLGICLATQILTGLLLAA...NH*')}"
      ]
     },
     "execution_count": 200,
     "metadata": {},
     "output_type": "execute_result"
    }
   ],
   "source": [
    "fill_weight_GC(cytb_seqs)"
   ]
  },
  {
   "cell_type": "code",
   "execution_count": 155,
   "id": "c17ba49a",
   "metadata": {
    "scrolled": true
   },
   "outputs": [
    {
     "ename": "AttributeError",
     "evalue": "'Seq' object has no attribute 'items'",
     "output_type": "error",
     "traceback": [
      "\u001b[0;31m---------------------------------------------------------------------------\u001b[0m",
      "\u001b[0;31mAttributeError\u001b[0m                            Traceback (most recent call last)",
      "\u001b[0;32m/var/folders/2h/1_y9ty8s2m363v19llkvkmmc0000gn/T/ipykernel_1773/3420417584.py\u001b[0m in \u001b[0;36m<module>\u001b[0;34m\u001b[0m\n\u001b[0;32m----> 1\u001b[0;31m \u001b[0mfill_weight_GC\u001b[0m\u001b[0;34m(\u001b[0m\u001b[0mcytb_seqs\u001b[0m\u001b[0;34m)\u001b[0m\u001b[0;34m\u001b[0m\u001b[0;34m\u001b[0m\u001b[0m\n\u001b[0m",
      "\u001b[0;32m/var/folders/2h/1_y9ty8s2m363v19llkvkmmc0000gn/T/ipykernel_1773/173899582.py\u001b[0m in \u001b[0;36mfill_weight_GC\u001b[0;34m(dna_dict)\u001b[0m\n\u001b[1;32m      4\u001b[0m     \u001b[0;32mfor\u001b[0m \u001b[0mkey\u001b[0m\u001b[0;34m,\u001b[0m \u001b[0mvalue\u001b[0m \u001b[0;32min\u001b[0m \u001b[0mdna_dict\u001b[0m\u001b[0;34m.\u001b[0m\u001b[0mitems\u001b[0m\u001b[0;34m(\u001b[0m\u001b[0;34m)\u001b[0m\u001b[0;34m:\u001b[0m\u001b[0;34m\u001b[0m\u001b[0;34m\u001b[0m\u001b[0m\n\u001b[1;32m      5\u001b[0m         \u001b[0mdna\u001b[0m \u001b[0;34m=\u001b[0m \u001b[0mvalue\u001b[0m\u001b[0;34m\u001b[0m\u001b[0;34m\u001b[0m\u001b[0m\n\u001b[0;32m----> 6\u001b[0;31m         \u001b[0maa\u001b[0m \u001b[0;34m=\u001b[0m \u001b[0mtranslate_sequences\u001b[0m\u001b[0;34m(\u001b[0m\u001b[0mdna\u001b[0m\u001b[0;34m)\u001b[0m\u001b[0;34m\u001b[0m\u001b[0;34m\u001b[0m\u001b[0m\n\u001b[0m\u001b[1;32m      7\u001b[0m         \u001b[0mweight\u001b[0m \u001b[0;34m=\u001b[0m \u001b[0mdna_to_aa\u001b[0m\u001b[0;34m(\u001b[0m\u001b[0maa\u001b[0m\u001b[0;34m)\u001b[0m\u001b[0;34m\u001b[0m\u001b[0;34m\u001b[0m\u001b[0m\n\u001b[1;32m      8\u001b[0m         \u001b[0mGC\u001b[0m\u001b[0;34m=\u001b[0m \u001b[0mcount_GC_content\u001b[0m\u001b[0;34m(\u001b[0m\u001b[0mweight\u001b[0m\u001b[0;34m)\u001b[0m\u001b[0;34m\u001b[0m\u001b[0;34m\u001b[0m\u001b[0m\n",
      "\u001b[0;32m/var/folders/2h/1_y9ty8s2m363v19llkvkmmc0000gn/T/ipykernel_1773/327978864.py\u001b[0m in \u001b[0;36mtranslate_sequences\u001b[0;34m(dna_dict)\u001b[0m\n\u001b[1;32m      4\u001b[0m     \u001b[0maa_dict\u001b[0m \u001b[0;34m=\u001b[0m \u001b[0;34m{\u001b[0m\u001b[0;34m}\u001b[0m\u001b[0;34m\u001b[0m\u001b[0;34m\u001b[0m\u001b[0m\n\u001b[1;32m      5\u001b[0m \u001b[0;34m\u001b[0m\u001b[0m\n\u001b[0;32m----> 6\u001b[0;31m     \u001b[0;32mfor\u001b[0m \u001b[0mname\u001b[0m\u001b[0;34m,\u001b[0m \u001b[0mdna_seq\u001b[0m \u001b[0;32min\u001b[0m \u001b[0mdna_dict\u001b[0m\u001b[0;34m.\u001b[0m\u001b[0mitems\u001b[0m\u001b[0;34m(\u001b[0m\u001b[0;34m)\u001b[0m\u001b[0;34m:\u001b[0m\u001b[0;34m\u001b[0m\u001b[0;34m\u001b[0m\u001b[0m\n\u001b[0m\u001b[1;32m      7\u001b[0m         \u001b[0maa_seq\u001b[0m \u001b[0;34m=\u001b[0m \u001b[0mdna_seq\u001b[0m\u001b[0;34m.\u001b[0m\u001b[0mtranslate\u001b[0m\u001b[0;34m(\u001b[0m\u001b[0mto_stop\u001b[0m \u001b[0;34m=\u001b[0m \u001b[0;32mFalse\u001b[0m\u001b[0;34m)\u001b[0m    \u001b[0;31m# leave stop codon off\u001b[0m\u001b[0;34m\u001b[0m\u001b[0;34m\u001b[0m\u001b[0m\n\u001b[1;32m      8\u001b[0m         \u001b[0maa_dict\u001b[0m\u001b[0;34m[\u001b[0m\u001b[0mname\u001b[0m\u001b[0;34m]\u001b[0m \u001b[0;34m=\u001b[0m \u001b[0maa_seq\u001b[0m\u001b[0;34m\u001b[0m\u001b[0;34m\u001b[0m\u001b[0m\n",
      "\u001b[0;31mAttributeError\u001b[0m: 'Seq' object has no attribute 'items'"
     ]
    }
   ],
   "source": [
    "fill_weight_GC(cytb_seqs)"
   ]
  },
  {
   "cell_type": "code",
   "execution_count": 137,
   "id": "75a06d04",
   "metadata": {},
   "outputs": [
    {
     "data": {
      "text/plain": [
       "{'Aptenodytes forsteri': Seq('ATGGCCCCAAATCTCCGAAAATCCCATCCCCTCCTAAAAATAATTAATAACTCC...TAA'),\n",
       " 'Aptenodytes patagonicus': Seq('ATGGCCCCAAACCTCCGAAAATCCCATCCTCTCCTAAAAATAATTAATAACTCC...TAA'),\n",
       " 'Eudyptes chrysocome': Seq('ATGGCCCCCAACCTCCGAAAATCCCACCCCCTCCTAAAAACAATCAATAACTCC...TAA'),\n",
       " 'Eudyptes chrysolophus': Seq('ATGGCCCCCAACCTCCGAAAATCCCACCCCCTCCTAAAAACAATCAATAACTCC...TAA'),\n",
       " 'Eudyptes sclateri': Seq('ATGGCCCCCAACCTCCGAAAATCCCACCCCCTCCTAAAAACAATCAATAACTCC...TAA'),\n",
       " 'Eudyptula minor': Seq('ATGGCCCCCAACCTCCGAAAATCTCACCCCCTCCTAAAAATAATCAACAACTCT...TAA'),\n",
       " 'Pygoscelis adeliae': Seq('ATGGCCCCCAACCTCCGAAAATCCCACCCTCTCCTAAAAATAATTAACAACTCC...TAA'),\n",
       " 'Pygoscelis antarctica': Seq('ATGGCCCCCAACCTCCGAAAATCCCACCCTCTCCTAAAAATAATCAACAACTCC...TAG'),\n",
       " 'Pygoscelis papua': Seq('ATGGCCCCCAACCTTCGAAAATCCCACCCTCTCCTAAAAATAATCAACAAATCC...TAG'),\n",
       " 'Spheniscus demersus': Seq('ATGGCCCCCAACCTCCGAAAATCCCACCCTCTCCTAAAAACAATCAACAACTCC...TAA'),\n",
       " 'Spheniscus humboldti': Seq('ATGGCCCCCAACCTCCGAAAATCCCACCCTCTCCTAAAAACAATCAACAACTCC...TAA'),\n",
       " 'Spheniscus magellanicus': Seq('ATGGCCCCCAACCTCCGAAAATCCCACCCTCTCCTAAAAACAATCAACAACTCC...TAA')}"
      ]
     },
     "execution_count": 137,
     "metadata": {},
     "output_type": "execute_result"
    }
   ],
   "source": [
    "cytb_seqs['Aptenodytes forsteri']\n",
    "cytb_seqs"
   ]
  },
  {
   "cell_type": "code",
   "execution_count": null,
   "id": "cc67b45e",
   "metadata": {},
   "outputs": [],
   "source": [
    "def dna_to_aa(dna_dict):\n",
    "    \n",
    "    # using this specific codon table \n",
    "    mito_table = CodonTable.unambiguous_dna_by_name[\"Vertebrate Mitochondrial\"]\n",
    "    \n",
    "    # convert stop codons into asterisks to make sure the following tranlation loop will not choke\n",
    "    mito_table.forward_table[\"TAA\"] = \"*\"\n",
    "    mito_table.forward_table[\"TAG\"] = \"*\"\n",
    "    mito_table.forward_table[\"AGG\"] = \"*\"\n",
    "    mito_table.forward_table[\"AGA\"] = \"*\"\n",
    "    \n",
    "    aa_dict = {}\n",
    "    \n",
    "    \n",
    "    for name, dna_seq in dna_dict.items():\n",
    "        \n",
    "        aa_seq = \"\"\n",
    "        \n",
    "        for i in range(0,len(dna_seq),3):\n",
    "            codon = dna_seq[i:i+3]                  # through every 3rd position to get codon \n",
    "            aa = mito_table.forward_table[codon]    # retrieve the amino acid\n",
    "            if aa !='*':                            \n",
    "                aa_seq += aa\n",
    "            else:\n",
    "                break\n",
    "        aa_dict[name] = aa_seq\n",
    "        \n",
    "    return aa_dict\n",
    "\n",
    "\n",
    "\n",
    "\n",
    "\n",
    "\n",
    "\n",
    "\n",
    "\n",
    "def translate_sequences(dna_dict):                 \n",
    "    aa_dict = {}\n",
    "    \n",
    "    for name, dna_seq in dna_dict.items():\n",
    "        aa_seq = dna_seq.translate(to_stop = False)    # leave stop codon off\n",
    "        aa_dict[name] = aa_seq\n",
    "    return aa_dict\n",
    "\n",
    "\n",
    "\n",
    "def get_sequences_from_file(fasta_fn):           # define a function\n",
    "    sequence_data_dict = {}                      # return sequence data in dictionary format \n",
    "    \n",
    "    for record in SeqIO.parse(fasta_fn, \"fasta\"):# a for-loop over every record of the fasta file, discription and sequence are seperated\n",
    "        description = record.description.split() # split the discription of the record\n",
    "        species_name = description[1] + \" \" + description[2] # define species names with 1st and 2nd elements in splitted discription\n",
    "        sequence_data_dict[species_name] = record.seq        # output the sequence with the corrisponding species name\n",
    "    return(sequence_data_dict)"
   ]
  },
  {
   "cell_type": "code",
   "execution_count": 112,
   "id": "ae37fadf",
   "metadata": {},
   "outputs": [
    {
     "data": {
      "text/html": [
       "<div>\n",
       "<style scoped>\n",
       "    .dataframe tbody tr th:only-of-type {\n",
       "        vertical-align: middle;\n",
       "    }\n",
       "\n",
       "    .dataframe tbody tr th {\n",
       "        vertical-align: top;\n",
       "    }\n",
       "\n",
       "    .dataframe thead th {\n",
       "        text-align: right;\n",
       "    }\n",
       "</style>\n",
       "<table border=\"1\" class=\"dataframe\">\n",
       "  <thead>\n",
       "    <tr style=\"text-align: right;\">\n",
       "      <th></th>\n",
       "      <th>species</th>\n",
       "      <th>GC-content</th>\n",
       "    </tr>\n",
       "  </thead>\n",
       "  <tbody>\n",
       "    <tr>\n",
       "      <th>0</th>\n",
       "      <td>Aptenodytes forsteri</td>\n",
       "      <td>42459.6021</td>\n",
       "    </tr>\n",
       "    <tr>\n",
       "      <th>1</th>\n",
       "      <td>Aptenodytes patagonicus</td>\n",
       "      <td>42563.7067</td>\n",
       "    </tr>\n",
       "    <tr>\n",
       "      <th>2</th>\n",
       "      <td>Eudyptes chrysocome</td>\n",
       "      <td>42475.5753</td>\n",
       "    </tr>\n",
       "    <tr>\n",
       "      <th>3</th>\n",
       "      <td>Eudyptes chrysolophus</td>\n",
       "      <td>42445.5493</td>\n",
       "    </tr>\n",
       "    <tr>\n",
       "      <th>4</th>\n",
       "      <td>Eudyptes sclateri</td>\n",
       "      <td>42475.5753</td>\n",
       "    </tr>\n",
       "    <tr>\n",
       "      <th>5</th>\n",
       "      <td>Eudyptula minor</td>\n",
       "      <td>42491.6408</td>\n",
       "    </tr>\n",
       "    <tr>\n",
       "      <th>6</th>\n",
       "      <td>Pygoscelis adeliae</td>\n",
       "      <td>42458.6140</td>\n",
       "    </tr>\n",
       "    <tr>\n",
       "      <th>7</th>\n",
       "      <td>Pygoscelis antarctica</td>\n",
       "      <td>42404.5423</td>\n",
       "    </tr>\n",
       "    <tr>\n",
       "      <th>8</th>\n",
       "      <td>Pygoscelis papua</td>\n",
       "      <td>42595.8759</td>\n",
       "    </tr>\n",
       "    <tr>\n",
       "      <th>9</th>\n",
       "      <td>Spheniscus demersus</td>\n",
       "      <td>42431.5490</td>\n",
       "    </tr>\n",
       "    <tr>\n",
       "      <th>10</th>\n",
       "      <td>Spheniscus humboldti</td>\n",
       "      <td>42399.5520</td>\n",
       "    </tr>\n",
       "    <tr>\n",
       "      <th>11</th>\n",
       "      <td>Spheniscus magellanicus</td>\n",
       "      <td>42459.6021</td>\n",
       "    </tr>\n",
       "  </tbody>\n",
       "</table>\n",
       "</div>"
      ],
      "text/plain": [
       "                    species  GC-content\n",
       "0      Aptenodytes forsteri  42459.6021\n",
       "1   Aptenodytes patagonicus  42563.7067\n",
       "2       Eudyptes chrysocome  42475.5753\n",
       "3     Eudyptes chrysolophus  42445.5493\n",
       "4         Eudyptes sclateri  42475.5753\n",
       "5           Eudyptula minor  42491.6408\n",
       "6        Pygoscelis adeliae  42458.6140\n",
       "7     Pygoscelis antarctica  42404.5423\n",
       "8          Pygoscelis papua  42595.8759\n",
       "9       Spheniscus demersus  42431.5490\n",
       "10     Spheniscus humboldti  42399.5520\n",
       "11  Spheniscus magellanicus  42459.6021"
      ]
     },
     "execution_count": 112,
     "metadata": {},
     "output_type": "execute_result"
    }
   ],
   "source": [
    "GC_trans"
   ]
  },
  {
   "cell_type": "code",
   "execution_count": 81,
   "id": "91bef3d7",
   "metadata": {
    "scrolled": true
   },
   "outputs": [
    {
     "ename": "IndentationError",
     "evalue": "unexpected indent (3695253039.py, line 10)",
     "output_type": "error",
     "traceback": [
      "\u001b[0;36m  File \u001b[0;32m\"/var/folders/2h/1_y9ty8s2m363v19llkvkmmc0000gn/T/ipykernel_1773/3695253039.py\"\u001b[0;36m, line \u001b[0;32m10\u001b[0m\n\u001b[0;31m    how='outer'), penguins_all).fillna('NaN')\u001b[0m\n\u001b[0m    ^\u001b[0m\n\u001b[0;31mIndentationError\u001b[0m\u001b[0;31m:\u001b[0m unexpected indent\n"
     ]
    }
   ],
   "source": [
    "# \n",
    "\n",
    "\n",
    "from functools import reduce\n",
    "\n",
    "\n",
    "penguins_all = [penguins_df, weight_trans, GC_trans]                   \n",
    "\n",
    "penguins_merged = pd.contat(penguins_all, join='outer',axis=1).fillna('NaN')"
   ]
  },
  {
   "cell_type": "code",
   "execution_count": 83,
   "id": "10915986",
   "metadata": {},
   "outputs": [
    {
     "data": {
      "text/html": [
       "<div>\n",
       "<style scoped>\n",
       "    .dataframe tbody tr th:only-of-type {\n",
       "        vertical-align: middle;\n",
       "    }\n",
       "\n",
       "    .dataframe tbody tr th {\n",
       "        vertical-align: top;\n",
       "    }\n",
       "\n",
       "    .dataframe thead th {\n",
       "        text-align: right;\n",
       "    }\n",
       "</style>\n",
       "<table border=\"1\" class=\"dataframe\">\n",
       "  <thead>\n",
       "    <tr style=\"text-align: right;\">\n",
       "      <th></th>\n",
       "      <th>species</th>\n",
       "      <th>mass</th>\n",
       "      <th>weight</th>\n",
       "      <th>GC-content</th>\n",
       "    </tr>\n",
       "  </thead>\n",
       "  <tbody>\n",
       "    <tr>\n",
       "      <th>0</th>\n",
       "      <td>Aptenodytes forsteri</td>\n",
       "      <td>28.00</td>\n",
       "      <td>42459.6021</td>\n",
       "      <td>42459.6021</td>\n",
       "    </tr>\n",
       "    <tr>\n",
       "      <th>1</th>\n",
       "      <td>Aptenodytes patagonicus</td>\n",
       "      <td>13.40</td>\n",
       "      <td>42563.7067</td>\n",
       "      <td>42563.7067</td>\n",
       "    </tr>\n",
       "    <tr>\n",
       "      <th>2</th>\n",
       "      <td>Eudyptes chrysocome</td>\n",
       "      <td>2.80</td>\n",
       "      <td>42475.5753</td>\n",
       "      <td>42475.5753</td>\n",
       "    </tr>\n",
       "    <tr>\n",
       "      <th>3</th>\n",
       "      <td>Eudyptes chrysolophus</td>\n",
       "      <td>4.50</td>\n",
       "      <td>42445.5493</td>\n",
       "      <td>42445.5493</td>\n",
       "    </tr>\n",
       "    <tr>\n",
       "      <th>4</th>\n",
       "      <td>Eudyptes sclateri</td>\n",
       "      <td>4.25</td>\n",
       "      <td>42475.5753</td>\n",
       "      <td>42475.5753</td>\n",
       "    </tr>\n",
       "    <tr>\n",
       "      <th>5</th>\n",
       "      <td>Eudyptula minor</td>\n",
       "      <td>1.60</td>\n",
       "      <td>42491.6408</td>\n",
       "      <td>42491.6408</td>\n",
       "    </tr>\n",
       "    <tr>\n",
       "      <th>6</th>\n",
       "      <td>Pygoscelis adeliae</td>\n",
       "      <td>4.60</td>\n",
       "      <td>42458.6140</td>\n",
       "      <td>42458.6140</td>\n",
       "    </tr>\n",
       "    <tr>\n",
       "      <th>7</th>\n",
       "      <td>Pygoscelis antarctica</td>\n",
       "      <td>4.10</td>\n",
       "      <td>42404.5423</td>\n",
       "      <td>42404.5423</td>\n",
       "    </tr>\n",
       "    <tr>\n",
       "      <th>8</th>\n",
       "      <td>Pygoscelis papua</td>\n",
       "      <td>6.10</td>\n",
       "      <td>42595.8759</td>\n",
       "      <td>42595.8759</td>\n",
       "    </tr>\n",
       "    <tr>\n",
       "      <th>9</th>\n",
       "      <td>Spheniscus demersus</td>\n",
       "      <td>3.20</td>\n",
       "      <td>42431.5490</td>\n",
       "      <td>42431.5490</td>\n",
       "    </tr>\n",
       "    <tr>\n",
       "      <th>10</th>\n",
       "      <td>Spheniscus humboldti</td>\n",
       "      <td>4.75</td>\n",
       "      <td>42399.5520</td>\n",
       "      <td>42399.5520</td>\n",
       "    </tr>\n",
       "    <tr>\n",
       "      <th>11</th>\n",
       "      <td>Spheniscus magellanicus</td>\n",
       "      <td>3.40</td>\n",
       "      <td>42459.6021</td>\n",
       "      <td>42459.6021</td>\n",
       "    </tr>\n",
       "  </tbody>\n",
       "</table>\n",
       "</div>"
      ],
      "text/plain": [
       "                    species   mass      weight  GC-content\n",
       "0      Aptenodytes forsteri  28.00  42459.6021  42459.6021\n",
       "1   Aptenodytes patagonicus  13.40  42563.7067  42563.7067\n",
       "2       Eudyptes chrysocome   2.80  42475.5753  42475.5753\n",
       "3     Eudyptes chrysolophus   4.50  42445.5493  42445.5493\n",
       "4         Eudyptes sclateri   4.25  42475.5753  42475.5753\n",
       "5           Eudyptula minor   1.60  42491.6408  42491.6408\n",
       "6        Pygoscelis adeliae   4.60  42458.6140  42458.6140\n",
       "7     Pygoscelis antarctica   4.10  42404.5423  42404.5423\n",
       "8          Pygoscelis papua   6.10  42595.8759  42595.8759\n",
       "9       Spheniscus demersus   3.20  42431.5490  42431.5490\n",
       "10     Spheniscus humboldti   4.75  42399.5520  42399.5520\n",
       "11  Spheniscus magellanicus   3.40  42459.6021  42459.6021"
      ]
     },
     "execution_count": 83,
     "metadata": {},
     "output_type": "execute_result"
    }
   ],
   "source": [
    "penguins_merged"
   ]
  },
  {
   "cell_type": "code",
   "execution_count": 79,
   "id": "204ad91b",
   "metadata": {},
   "outputs": [
    {
     "data": {
      "text/plain": [
       "[                    species   mass\n",
       " 0      Aptenodytes forsteri  28.00\n",
       " 1   Aptenodytes patagonicus  13.40\n",
       " 2       Eudyptes chrysocome   2.80\n",
       " 3     Eudyptes chrysolophus   4.50\n",
       " 4         Eudyptes sclateri   4.25\n",
       " 5           Eudyptula minor   1.60\n",
       " 6        Pygoscelis adeliae   4.60\n",
       " 7     Pygoscelis antarctica   4.10\n",
       " 8          Pygoscelis papua   6.10\n",
       " 9       Spheniscus demersus   3.20\n",
       " 10     Spheniscus humboldti   4.75\n",
       " 11  Spheniscus magellanicus   3.40,\n",
       "                     species      weight\n",
       " 0      Aptenodytes forsteri  42459.6021\n",
       " 1   Aptenodytes patagonicus  42563.7067\n",
       " 2       Eudyptes chrysocome  42475.5753\n",
       " 3     Eudyptes chrysolophus  42445.5493\n",
       " 4         Eudyptes sclateri  42475.5753\n",
       " 5           Eudyptula minor  42491.6408\n",
       " 6        Pygoscelis adeliae  42458.6140\n",
       " 7     Pygoscelis antarctica  42404.5423\n",
       " 8          Pygoscelis papua  42595.8759\n",
       " 9       Spheniscus demersus  42431.5490\n",
       " 10     Spheniscus humboldti  42399.5520\n",
       " 11  Spheniscus magellanicus  42459.6021,\n",
       "                     species  GC-content\n",
       " 0      Aptenodytes forsteri  42459.6021\n",
       " 1   Aptenodytes patagonicus  42563.7067\n",
       " 2       Eudyptes chrysocome  42475.5753\n",
       " 3     Eudyptes chrysolophus  42445.5493\n",
       " 4         Eudyptes sclateri  42475.5753\n",
       " 5           Eudyptula minor  42491.6408\n",
       " 6        Pygoscelis adeliae  42458.6140\n",
       " 7     Pygoscelis antarctica  42404.5423\n",
       " 8          Pygoscelis papua  42595.8759\n",
       " 9       Spheniscus demersus  42431.5490\n",
       " 10     Spheniscus humboldti  42399.5520\n",
       " 11  Spheniscus magellanicus  42459.6021]"
      ]
     },
     "execution_count": 79,
     "metadata": {},
     "output_type": "execute_result"
    }
   ],
   "source": [
    "penguins_all"
   ]
  },
  {
   "cell_type": "code",
   "execution_count": 9,
   "id": "e8cfd3a8",
   "metadata": {},
   "outputs": [],
   "source": [
    "\n",
    "\n",
    "\n",
    "\n",
    "\n",
    "#%%%%%%%%%%%%%%#\n",
    "###   MAIN   ###\n",
    "#%%%%%%%%%%%%%%#\n",
    "\n",
    "\n",
    "species_list = list(penguins_df.species)\n",
    "\n",
    "\n",
    "\n",
    "## 8 ##\n",
    "## Plot a bar-chart of the mass with the x-axes labeled with species names.\n",
    "## *Q1* What is the smallest penguin species? \n",
    "## *Q2* What is the geographical range of this species?\n",
    "\n",
    "## 9 ##\n",
    "## Plot a visualization of the molecular weight (y-axis) as a function of GC-content (x-axis).\n",
    "\n",
    "## 10 ##\n",
    "## Save the new DataFrame to a file called \"penguins_mass_cytb.csv\"\n",
    "\n",
    "## 11 - BONUS ##\n",
    "## What else can we do with this dataset in Python? \n",
    "## Add functions or anything that might be interesting and fun. (optional)\n",
    "\n"
   ]
  },
  {
   "cell_type": "code",
   "execution_count": 302,
   "id": "6626dec4",
   "metadata": {},
   "outputs": [],
   "source": [
    "def gpt_dna(dna_dict):\n",
    "    \"\"\"\n",
    "    This function takes in a dictionary of DNA sequences and returns a dictionary of translated amino acid sequences\n",
    "    \"\"\"\n",
    "    # dictionary to store the translated amino acid sequences\n",
    "    aa_dict = {}\n",
    "    codon_table = CodonTable.unambiguous_dna_by_name[\"Vertebrate Mitochondrial\"]\n",
    "    \n",
    "    # loop through each DNA sequence in the dictionary\n",
    "    for name, sequence in dna_dict.items():\n",
    "        # initialize the translated sequence as an empty string\n",
    "        aa_sequence = \"\"\n",
    "        # loop through the sequence, reading three bases at a time\n",
    "        for i in range(0, len(sequence), 3):\n",
    "            # extract the current codon\n",
    "            codon = sequence[i:i+3]\n",
    "            # look up the corresponding amino acid in the codon table\n",
    "            aa = codon_table.forward_table[codon]\n",
    "            \n",
    "            # add the amino acid to the translated sequence, unless it is a stop codon\n",
    "            if aa != '*':\n",
    "                aa_sequence += aa\n",
    "            else:\n",
    "                break\n",
    "        # store the translated sequence in the dictionary\n",
    "        aa_dict[name] = aa_sequence\n",
    "        \n",
    "    return aa_dict\n"
   ]
  },
  {
   "cell_type": "code",
   "execution_count": 303,
   "id": "77ba7a75",
   "metadata": {},
   "outputs": [
    {
     "name": "stdout",
     "output_type": "stream",
     "text": [
      "Collecting package metadata (current_repodata.json): done\n",
      "Solving environment: done\n",
      "\n",
      "\n",
      "==> WARNING: A newer version of conda exists. <==\n",
      "  current version: 22.9.0\n",
      "  latest version: 23.3.1\n",
      "\n",
      "Please update conda by running\n",
      "\n",
      "    $ conda update -n base -c defaults conda\n",
      "\n",
      "\n",
      "\n",
      "# All requested packages already installed.\n",
      "\n",
      "Retrieving notices: ...working... done\n",
      "\n",
      "Note: you may need to restart the kernel to use updated packages.\n"
     ]
    }
   ],
   "source": [
    "conda install biopython\n"
   ]
  }
 ],
 "metadata": {
  "kernelspec": {
   "display_name": "Python 3 (ipykernel)",
   "language": "python",
   "name": "python3"
  },
  "language_info": {
   "codemirror_mode": {
    "name": "ipython",
    "version": 3
   },
   "file_extension": ".py",
   "mimetype": "text/x-python",
   "name": "python",
   "nbconvert_exporter": "python",
   "pygments_lexer": "ipython3",
   "version": "3.9.13"
  }
 },
 "nbformat": 4,
 "nbformat_minor": 5
}
