{
 "cells": [
  {
   "cell_type": "markdown",
   "id": "b47c67ac",
   "metadata": {},
   "source": [
    "# BCB 546  Python Assignment"
   ]
  },
  {
   "cell_type": "markdown",
   "id": "6816b34d",
   "metadata": {},
   "source": [
    "## Dependency\n",
    "\n",
    "BioPython\n"
   ]
  },
  {
   "cell_type": "markdown",
   "id": "3b932f47",
   "metadata": {},
   "source": [
    "\n",
    "## Task 1: Get sequence\n",
    "\n"
   ]
  },
  {
   "cell_type": "markdown",
   "id": "2553d23f",
   "metadata": {},
   "source": [
    "### Function: get_sequences_from_file(fasta_fn)\n",
    "\n",
    "**Description:** Get sequence from a fasta file\n",
    "\n",
    "**Arguments:**\n",
    "\n",
    "* fasta_fn: fasta file\n",
    "\n",
    "**Return:** dictionaries, containing sequences with their species names\n"
   ]
  },
  {
   "cell_type": "code",
   "execution_count": 1,
   "id": "6698aa93",
   "metadata": {},
   "outputs": [],
   "source": [
    "from Bio import SeqIO\n",
    "\n",
    "def get_sequences_from_file(fasta_fn):           # define a function\n",
    "    sequence_data_dict = {}                       \n",
    "    for record in SeqIO.parse(fasta_fn, \"fasta\"):# a for-loop over every record of the fasta file, discription and sequence are seperated\n",
    "        description = record.description.split() # split the discription of the record\n",
    "        species_name = description[1] + \" \" + description[2] # define species names with 1st and 2nd elements in splitted discription\n",
    "        sequence_data_dict[species_name] = record.seq        # output the sequence with the corrisponding species name\n",
    "    return(sequence_data_dict)                   # return each sequence with species name"
   ]
  },
  {
   "cell_type": "code",
   "execution_count": 2,
   "id": "939b57ae",
   "metadata": {},
   "outputs": [],
   "source": [
    "# read the fatsta file with the defined function\n",
    "\n",
    "penguin_seq = get_sequences_from_file(\"penguins_cytb.fasta\")"
   ]
  },
  {
   "cell_type": "code",
   "execution_count": 3,
   "id": "25156378",
   "metadata": {},
   "outputs": [
    {
     "data": {
      "text/plain": [
       "{'Aptenodytes forsteri': Seq('ATGGCCCCAAATCTCCGAAAATCCCATCCCCTCCTAAAAATAATTAATAACTCC...TAA'),\n",
       " 'Aptenodytes patagonicus': Seq('ATGGCCCCAAACCTCCGAAAATCCCATCCTCTCCTAAAAATAATTAATAACTCC...TAA'),\n",
       " 'Eudyptes chrysocome': Seq('ATGGCCCCCAACCTCCGAAAATCCCACCCCCTCCTAAAAACAATCAATAACTCC...TAA'),\n",
       " 'Eudyptes chrysolophus': Seq('ATGGCCCCCAACCTCCGAAAATCCCACCCCCTCCTAAAAACAATCAATAACTCC...TAA'),\n",
       " 'Eudyptes sclateri': Seq('ATGGCCCCCAACCTCCGAAAATCCCACCCCCTCCTAAAAACAATCAATAACTCC...TAA'),\n",
       " 'Eudyptula minor': Seq('ATGGCCCCCAACCTCCGAAAATCTCACCCCCTCCTAAAAATAATCAACAACTCT...TAA'),\n",
       " 'Pygoscelis adeliae': Seq('ATGGCCCCCAACCTCCGAAAATCCCACCCTCTCCTAAAAATAATTAACAACTCC...TAA'),\n",
       " 'Pygoscelis antarctica': Seq('ATGGCCCCCAACCTCCGAAAATCCCACCCTCTCCTAAAAATAATCAACAACTCC...TAG'),\n",
       " 'Pygoscelis papua': Seq('ATGGCCCCCAACCTTCGAAAATCCCACCCTCTCCTAAAAATAATCAACAAATCC...TAG'),\n",
       " 'Spheniscus demersus': Seq('ATGGCCCCCAACCTCCGAAAATCCCACCCTCTCCTAAAAACAATCAACAACTCC...TAA'),\n",
       " 'Spheniscus humboldti': Seq('ATGGCCCCCAACCTCCGAAAATCCCACCCTCTCCTAAAAACAATCAACAACTCC...TAA'),\n",
       " 'Spheniscus magellanicus': Seq('ATGGCCCCCAACCTCCGAAAATCCCACCCTCTCCTAAAAACAATCAACAACTCC...TAA')}"
      ]
     },
     "execution_count": 3,
     "metadata": {},
     "output_type": "execute_result"
    }
   ],
   "source": [
    "# inspection of the read file\n",
    "penguin_seq"
   ]
  },
  {
   "cell_type": "code",
   "execution_count": 4,
   "id": "1e154ae5",
   "metadata": {},
   "outputs": [
    {
     "data": {
      "text/plain": [
       "dict"
      ]
     },
     "execution_count": 4,
     "metadata": {},
     "output_type": "execute_result"
    }
   ],
   "source": [
    "len(penguin_seq)\n",
    "\n",
    "type(penguin_seq)"
   ]
  },
  {
   "cell_type": "markdown",
   "id": "7bd223d9",
   "metadata": {},
   "source": [
    "## Task 2: Translate DNA to AA\n",
    "\n",
    "### Function: dna_to_aa(dna_dict)\n",
    "\n",
    "**Description:** translate sequences into amino acids in dictionaries\n",
    "\n",
    "**Arguments:**\n",
    "\n",
    "* dna_dict: dictionaries that contain DNA sequences and their names\n",
    "\n",
    "**Return:** dictionaries, containing amino acids with their names\n",
    "\n"
   ]
  },
  {
   "cell_type": "code",
   "execution_count": 55,
   "id": "4a858536",
   "metadata": {},
   "outputs": [
    {
     "ename": "NameError",
     "evalue": "name 'mito_table' is not defined",
     "output_type": "error",
     "traceback": [
      "\u001b[0;31m---------------------------------------------------------------------------\u001b[0m",
      "\u001b[0;31mNameError\u001b[0m                                 Traceback (most recent call last)",
      "\u001b[0;32m/var/folders/2h/1_y9ty8s2m363v19llkvkmmc0000gn/T/ipykernel_60988/2026344585.py\u001b[0m in \u001b[0;36m<module>\u001b[0;34m\u001b[0m\n\u001b[0;32m----> 1\u001b[0;31m \u001b[0mmito_table\u001b[0m\u001b[0;34m\u001b[0m\u001b[0;34m\u001b[0m\u001b[0m\n\u001b[0m",
      "\u001b[0;31mNameError\u001b[0m: name 'mito_table' is not defined"
     ]
    }
   ],
   "source": []
  },
  {
   "cell_type": "code",
   "execution_count": 9,
   "id": "4d5e8565",
   "metadata": {},
   "outputs": [],
   "source": [
    "from Bio.Data import CodonTable\n",
    "\n",
    "\n",
    "def dna_to_aa(dna_dict):\n",
    "    \n",
    "    # using this specific codon table \n",
    "    mito_table = CodonTable.unambiguous_dna_by_name[\"Vertebrate Mitochondrial\"]\n",
    "    \n",
    "    # convert stop codons into asterisks to make sure the following tranlation loop will not choke\n",
    "    mito_table.forward_table[\"TAA\"] = \"*\"\n",
    "    mito_table.forward_table[\"TAG\"] = \"*\"\n",
    "    mito_table.forward_table[\"AGG\"] = \"*\"\n",
    "    mito_table.forward_table[\"AGA\"] = \"*\"\n",
    "    \n",
    "    aa_dict = {}\n",
    "    \n",
    "    \n",
    "    for name, dna_seq in dna_dict.items():\n",
    "        aa_seq = \"\"\n",
    "        \n",
    "        for i in range(0,len(dna_seq),3):\n",
    "            codon = dna_seq[i:i+3]\n",
    "            aa = mito_table.forward_table[codon]\n",
    "            if aa !='*':\n",
    "                aa_seq += aa\n",
    "            else:\n",
    "                break\n",
    "        aa_dict[name] = aa_seq\n",
    "        \n",
    "    return aa_dict"
   ]
  },
  {
   "cell_type": "code",
   "execution_count": 31,
   "id": "eedfdd5e",
   "metadata": {
    "scrolled": false
   },
   "outputs": [],
   "source": [
    "aa_2 = dna_to_aa(penguin_seq)"
   ]
  },
  {
   "cell_type": "code",
   "execution_count": 33,
   "id": "1905fa0c",
   "metadata": {},
   "outputs": [
    {
     "ename": "SyntaxError",
     "evalue": "invalid syntax (3061692964.py, line 1)",
     "output_type": "error",
     "traceback": [
      "\u001b[0;36m  File \u001b[0;32m\"/var/folders/2h/1_y9ty8s2m363v19llkvkmmc0000gn/T/ipykernel_60988/3061692964.py\"\u001b[0;36m, line \u001b[0;32m1\u001b[0m\n\u001b[0;31m    class(aa_2)\u001b[0m\n\u001b[0m         ^\u001b[0m\n\u001b[0;31mSyntaxError\u001b[0m\u001b[0;31m:\u001b[0m invalid syntax\n"
     ]
    }
   ],
   "source": [
    "class(aa_2)"
   ]
  },
  {
   "cell_type": "code",
   "execution_count": 34,
   "id": "8be7eae0",
   "metadata": {
    "scrolled": true
   },
   "outputs": [
    {
     "data": {
      "text/plain": [
       "{'Aptenodytes forsteri': 'MAPNLRKSHPLLKMINNSLIDLPTPSNISAWWNFGSLLGICLTTQILTGLLLAMHYTADTTLAFSSVAHTCRNVQYGWLIRNLHANGASFFFICIYLHIGRGFYYGSYLYKETWNTGIILLLTLMATAFVGYVLPWGQMSFWGATVITNLFSAIPYIGQTLVEWTWGGFSVDNPTLTRFFALHFLLPFMIAGLTLIHLTFLHESGSNNPLGIVANSDKIPFHPYYSTKDILGFALMLLPLTTLALFSPNLLGDPENFTPANPLVTPPHIKPEWYFLFAYAILRSIPNKLGGVLALAASVLILFLIPLLHKSKQRTMAFRPLSQLLFWALVANLIILTWVGSQPVEHPFIIIGQLASLTYFTTLLILFPIAGALENKMLNH',\n",
       " 'Aptenodytes patagonicus': 'MAPNLRKSHPLLKMINNSLIDLPTPSNISAWWNFGSLLGICLTTQILTGLLLAMHYTADTTLAFSSVAHTCRNVQYGWLIRNLHANGASFFFICIYLHIGRGFYYGSYLYKETWNTGIILLLTLMATAFVGYVLPWGQMSFWGATVITNLFSAIPYIGQTLVEWAWGGFSVDNPTLTRFFALHFLLPFMIAGLTLIHLTFLHESGSNNPLGIVANSDKIPFHPYYSTKDTLGFALMLLPLTTLALFSPNLLGDPENFTPANPLVTPPHIKPEWYFLFAYAILRSIPNKLGGVLALAASVLILFLIPLLHKSKQRTMTFRPLSQLLFWTLVANLTILTWIGSQPVEHPFIIIGQLASLTYFTILLILFPLIGTLENKMLNH',\n",
       " 'Eudyptes chrysocome': 'MAPNLRKSHPLLKTINNSLIDLPTPSNISAWWNFGSLLGICLATQILTGLLLAAHYTADTTLAFSSVAHTCRNVQYGWLIRNLHANGASFFFICIYLHIGRGLYYGSYLYKETWNTGIILLLTLMATAFVGYVLPWGQMSFWGATVITNLFSAIPYIGQTLVEWAWGGFSVDNPTLTRFFTLHFLLPFMIAGLTLIHLTFLHESGSNNPLGIVANSDKIPFHPYYSTKDILGFILLLLPLTTLALFSPNLLGDPENFTPANPLVTPPHIKPEWYFLFAYAILRSIPNKLGGVLALAASVLILFLIPLLHKSKQRTMTFRPLSQLLFWTLVANLTILTWIGSQPVEHPFIIIGQLASLTYFTILLILFPLIGTLENKMLNH',\n",
       " 'Eudyptes chrysolophus': 'MAPNLRKSHPLLKTINNSLIDLPTPSNISAWWNFGSLLGICLATQILTGLLLAAHYTADTTLAFSSVAHTCRNVQYGWLIRNLHANGASFFFICIYLHIGRGLYYGSYLYKETWNTGIILLLTLMATAFVGYVLPWGQMSFWGATVITNLFSAIPYIGQTLVEWAWGGFSVDNPTLTRFFTLHFLLPFMIAGLTLIHLTFLHESGSNNPLGIVANSDKIPFHPYYSTKDILGFILLLLPLTALALFSPNLLGDPENFTPANPLVTPPHIKPEWYFLFAYAILRSIPNKLGGVLALAASVLILFLIPLLHKSKQRTMTFRPLSQLLFWTLVANLTILTWIGSQPVEHPFIIIGQLASLTYFTILLILFPLIGTLENKMLNH',\n",
       " 'Eudyptes sclateri': 'MAPNLRKSHPLLKTINNSLIDLPTPSNISAWWNFGSLLGICLATQILTGLLLAAHYTADTTLAFSSVAHTCRNVQYGWLIRNLHANGASFFFICIYLHIGRGLYYGSYLYKETWNTGIILLLTLMATAFVGYVLPWGQMSFWGATVITNLFSAIPYIGQTLVEWAWGGFSVDNPTLTRFFTLHFLLPFMIAGLTLIHLTFLHESGSNNPLGIVANSDKIPFHPYYSTKDILGFILLLLPLTTLALFSPNLLGDPENFTPANPLVTPPHIKPEWYFLFAYAILRSIPNKLGGVLALAASVLILFLIPLLHKSKQRTMTFRPLSQLLFWTLVANLTILTWIGSQPVEHPFIIIGQLASLTYFTILLILFPLIGTLENKMLNH',\n",
       " 'Eudyptula minor': 'MAPNLRKSHPLLKMINNSLIDLPTPSNISTWWNFGSLLGICLITQILTGLLLAAHYTADTTLAFSSIAHTCRNVQYGWLIRNLHANGASFFFICIYLHIGRGLYYGSYLYKETWNTGIILLITLMATAFVGYVLPWGQMSFWGATVITNLFSAIPYIGQTLVEWAWGGFSVDNPTLTRFFALHFLLPFMITGLTLIHLTFLHESGSNNPLGIVANSDKIPFHPYYSTKDILGFILLLLPLTTLALFSPNLLGDPENFTPANPLVTPPHIKPEWYFLFAYAILRSIPNKLGGVLALAASVLILFLIPLLHKSKQRSMAFRPLSQLLFWTLVANLTILTWVGNQPVEHPFIIIGQLASLTYFTILLILFPLAGTLENKMLSH',\n",
       " 'Pygoscelis adeliae': 'MAPNLRKSHPLLKMINNSLIDLPTPSNISAWWNFGSLLGICLTTQILTGLLLAMHYTADTTLAFSSIAHTCRDVQYGWLIRNLHANGASFFFICIYLHIGRGLYYGSYLYKETWNTGIILLLTLMATAFVGYVLPWGQMSFWGATVITNLFSAIPYIGQTLVEWAWGGFSVDNPTLTRFFALHFLLPFVIMGLTLIHLTFLHESGSNNPLGIVANSDKIPFHPYYSTKDILGFAFMLLPLTTLALFSPNLLGDPENFTPANPLVTPPHIKPEWYFLFAYAILRSIPNKLGGVLALAASVLILFLIPLLHKSKQRTMAFRPLSQLLFWALVANLAILTWVGSQPVEHPFIIIGQLASLTYFTILLILFPSIGALENKMLNH',\n",
       " 'Pygoscelis antarctica': 'MAPNLRKSHPLLKMINNSLIDLPTPSNISAWWNFGSLLGICLTTQILTGLLLAMHYTADTTLAFSSIAHTCRDVQYGWLIRNMHANGASLLFICIYLHIGRGVYDGSYLHKETWNTGVILLLTLMATAFVGYVLPWGQMSFWGATVITNLFSAIPYIGQTIVEWAWGGFSVDNPTLTRFFALHFLLPFMITGLTLIHLTFLHESGSNNPLGIVANSDKIPFHPYYSTKDILGFTLMLLPLTTLALFSPNLLGDPENFTPANPLVTPPHIKPEWYFLFAYAILRSIPNKLGGVLALAASVLVLFLSPLLHKSKQRTMAFRPLSQLLFWTLVANLLILTWIGSQPVEHPFIIIGQLASTTYFIILLILFPITSALENKMLNF',\n",
       " 'Pygoscelis papua': 'MAPNLRKSHPLLKMINKSLIDLPTPPNISAWWNFGSLLGICLITQILTGLLLAMHYTADTTLAFSSIAHTCRNVQYGWLIRNLHANGASFFFICIYFHIGRGLYYGSYLYKETWNTGIILLLTLMATAFVGYVLPWGQMSFWGATVITNLFSAIPYVGQTLVEWAWGGFSVDNPTLTRFFALHFLLPFMITGLTLIHLTFLHESGSNNPLGIVANSDKIPFHPYYSTKDILGFALMLLPLTTLALFSPNLLGDPENFTPANPLVTPPHIKPEWYFLFAYAILRSIPNKLGGVLALAASVLILFLSPLLHKSKQRTMAFRPLSQLLFWTLVANLLILTWIGSQPVEHPFIIIGQLASTTYFIILLILFPITSALENKMLNF',\n",
       " 'Spheniscus demersus': 'MAPNLRKSHPLLKTINNSLIDLPTPSNISAWWNFGSLLGICLATQILTGLLLAAHYTADTTLAFSSVAHMCRNVQYGWLIRNLHANGASFFFICIYLHIGRGLYYGSYLYKETWNTGIILLLTLMATAFVGYVLPWGQMSFWGATVITNLFSAIPYIGQTLVEWAWGGFSVDNPTLTRFFALHFLLPFMITGLTLIHLTFLHESGSNNPLGIVANSDKIPFHPYYSTKDILGFMLLLLPLTTLALFSPNLLGDPENFTPANPLVTPPHIKPEWYFLFAYAILRSIPNKLGGVLALAASVLILFLMPLLHKSKQRTMAFRPLSQLLFWTLVANLIILTWIGSQPVEHPFIAIGQLASFTYFTTLLILFPLAGALENKMLNH',\n",
       " 'Spheniscus humboldti': 'MAPNLRKSHPLLKTINNSLIDLPTPSNISAWWNFGSLLSICLATQILTGLLLAAHYTADTTLAFSSVAHMCRNVQYGWLIRNLHANGASFFFICIYLHIGRGLYYGSYLHKETWNTGIILLLTLMATAFVGYVLPWGQMSFWGATVITNLFSAIPYIGQTLVEWAWGGFSVDNPTLTRFFALHFLLPFMITGLALIHLTFLHESGSNNPLGIVANSDKIPFHPYYSTKDILGFMLLLLPLTTLALFSPNLLGDPENFTPANPLVTPPHIKPEWYFLFAYAILRSIPNKLGGVLALAASVLILFLMPLLHKSKQRTMAFRPLSQLLFWTLVANLIILTWVGSQPVEHPFIIIGQLASLTYFTTLLILFPLAGALENKMLNH',\n",
       " 'Spheniscus magellanicus': 'MAPNLRKSHPLLKTINNSLIDLPTPSNISAWWNFGSLLGICLATQILTGLLLAAHYTADTTLAFSSVAHMCRNVQYGWLIRNLHANGASFFFICIYLHIGRGLYYGSYLYKETWNTGIILLLTLMATAFVGYVLPWGQMSFWGATVITNLFSAIPYIGQTLVEWAWGGFSVDNPTLTRFFALHFLLPFMITGLTLIHLTFLHESGSNNPLGIVANSDKIPFHPYYSTKDILGFMLLLLPLTTLALFSPNLLGDPENFTPANPLVTPPHIKPEWYFLFAYAILRSIPNKLGGVLALAASVLILFLMPLLHKSKQRTMAFRPLSQLLFWTLVANLIILTWVGSQPVEHPFIIIGQLASFTYFTTLLILFPLAGALENKMLNH'}"
      ]
     },
     "execution_count": 34,
     "metadata": {},
     "output_type": "execute_result"
    }
   ],
   "source": [
    "aa_2"
   ]
  },
  {
   "cell_type": "markdown",
   "id": "4b319e9c",
   "metadata": {},
   "source": [
    "## Task 3\n",
    "\n",
    "Alternative way to finish task2\n",
    "\n",
    "\n",
    "### Functio:  translate_sequences(dna_dict)\n",
    "\n",
    "**Description:** Translate DNA sequence into amino acids in dictionaries\n",
    "\n",
    "**Arguments:**\n",
    "\n",
    "* dna_dict: dictionaries that contain sequences and their names\n",
    "\n",
    "**Return:** dictionaries, containing amino acids sequences with their species names\n"
   ]
  },
  {
   "cell_type": "code",
   "execution_count": 49,
   "id": "4b123813",
   "metadata": {},
   "outputs": [],
   "source": [
    "from Bio.Seq import Seq\n",
    "\n",
    "def translate_sequences(dna_dict):\n",
    "    aa_dict = {}\n",
    "    for name, dna_seq in dna_dict.items():\n",
    "        aa_seq = dna_seq.translate(to_stop = False)\n",
    "        aa_dict[name] = aa_seq\n",
    "    return aa_dict"
   ]
  },
  {
   "cell_type": "code",
   "execution_count": 50,
   "id": "c2996561",
   "metadata": {
    "scrolled": true
   },
   "outputs": [],
   "source": [
    "aa_3 = translate_sequences(penguin_seq)"
   ]
  },
  {
   "cell_type": "code",
   "execution_count": 51,
   "id": "12147a6c",
   "metadata": {},
   "outputs": [
    {
     "data": {
      "text/plain": [
       "{'Aptenodytes forsteri': Seq('MAPNLRKSHPLLKIINNSLIDLPTPSNISA**NFGSLLGICLTTQILTGLLLAI...NH*'),\n",
       " 'Aptenodytes patagonicus': Seq('MAPNLRKSHPLLKIINNSLIDLPTPSNISA**NFGSLLGICLTTQILTGLLLAI...NH*'),\n",
       " 'Eudyptes chrysocome': Seq('MAPNLRKSHPLLKTINNSLIDLPTPSNISA**NFGSLLGICLATQILTGLLLAA...NH*'),\n",
       " 'Eudyptes chrysolophus': Seq('MAPNLRKSHPLLKTINNSLIDLPTPSNISA**NFGSLLGICLATQILTGLLLAA...NH*'),\n",
       " 'Eudyptes sclateri': Seq('MAPNLRKSHPLLKTINNSLIDLPTPSNISA**NFGSLLGICLATQILTGLLLAA...NH*'),\n",
       " 'Eudyptula minor': Seq('MAPNLRKSHPLLKIINNSLIDLPTPSNIST**NFGSLLGICLITQILTGLLLAA...SH*'),\n",
       " 'Pygoscelis adeliae': Seq('MAPNLRKSHPLLKIINNSLIDLPTPSNISA**NFGSLLGICLTTQILTGLLLAM...NH*'),\n",
       " 'Pygoscelis antarctica': Seq('MAPNLRKSHPLLKIINNSLIDLPTPSNISA**NFGSLLGICLTTQILTGLLLAI...NF*'),\n",
       " 'Pygoscelis papua': Seq('MAPNLRKSHPLLKIINKSLIDLPTPPNISA**NFGSLLGICLITQILTGLLLAI...NF*'),\n",
       " 'Spheniscus demersus': Seq('MAPNLRKSHPLLKTINNSLIDLPTPSNISA**NFGSLLGICLATQILTGLLLAA...NH*'),\n",
       " 'Spheniscus humboldti': Seq('MAPNLRKSHPLLKTINNSLIDLPTPSNISA**NFGSLLSICLATQILTGLLLAA...NH*'),\n",
       " 'Spheniscus magellanicus': Seq('MAPNLRKSHPLLKTINNSLIDLPTPSNISA**NFGSLLGICLATQILTGLLLAA...NH*')}"
      ]
     },
     "execution_count": 51,
     "metadata": {},
     "output_type": "execute_result"
    }
   ],
   "source": [
    "aa_3"
   ]
  },
  {
   "cell_type": "code",
   "execution_count": 52,
   "id": "ea7c9c29",
   "metadata": {},
   "outputs": [],
   "source": [
    "penguin_aa = translate_sequences(penguin_seq)"
   ]
  },
  {
   "cell_type": "code",
   "execution_count": 53,
   "id": "5a5effb7",
   "metadata": {
    "scrolled": true
   },
   "outputs": [
    {
     "data": {
      "text/plain": [
       "1143"
      ]
     },
     "execution_count": 53,
     "metadata": {},
     "output_type": "execute_result"
    }
   ],
   "source": [
    "len(penguin_seq[\"Aptenodytes forsteri\"])"
   ]
  },
  {
   "cell_type": "code",
   "execution_count": 54,
   "id": "40112c43",
   "metadata": {},
   "outputs": [
    {
     "data": {
      "text/plain": [
       "381"
      ]
     },
     "execution_count": 54,
     "metadata": {},
     "output_type": "execute_result"
    }
   ],
   "source": [
    "len(aa_3[\"Aptenodytes forsteri\"])"
   ]
  },
  {
   "cell_type": "code",
   "execution_count": 56,
   "id": "bffa9602",
   "metadata": {},
   "outputs": [
    {
     "data": {
      "text/plain": [
       "Seq('MAPNLRKSHPLLKIINNSLIDLPTPSNISA**NFGSLLGICLTTQILTGLLLAI...NH*')"
      ]
     },
     "execution_count": 56,
     "metadata": {},
     "output_type": "execute_result"
    }
   ],
   "source": [
    "aa_3[\"Aptenodytes forsteri\"]"
   ]
  },
  {
   "cell_type": "code",
   "execution_count": 58,
   "id": "1ea28e4f",
   "metadata": {
    "scrolled": true
   },
   "outputs": [
    {
     "data": {
      "text/plain": [
       "11"
      ]
     },
     "execution_count": 58,
     "metadata": {},
     "output_type": "execute_result"
    }
   ],
   "source": [
    "aa_3[\"Aptenodytes forsteri\"].count(\"*\")"
   ]
  },
  {
   "cell_type": "code",
   "execution_count": 59,
   "id": "bfcf59b8",
   "metadata": {},
   "outputs": [
    {
     "data": {
      "text/plain": [
       "'MAPNLRKSHPLLKMINNSLIDLPTPSNISAWWNFGSLLGICLTTQILTGLLLAMHYTADTTLAFSSVAHTCRNVQYGWLIRNLHANGASFFFICIYLHIGRGFYYGSYLYKETWNTGIILLLTLMATAFVGYVLPWGQMSFWGATVITNLFSAIPYIGQTLVEWTWGGFSVDNPTLTRFFALHFLLPFMIAGLTLIHLTFLHESGSNNPLGIVANSDKIPFHPYYSTKDILGFALMLLPLTTLALFSPNLLGDPENFTPANPLVTPPHIKPEWYFLFAYAILRSIPNKLGGVLALAASVLILFLIPLLHKSKQRTMAFRPLSQLLFWALVANLIILTWVGSQPVEHPFIIIGQLASLTYFTTLLILFPIAGALENKMLNH'"
      ]
     },
     "execution_count": 59,
     "metadata": {},
     "output_type": "execute_result"
    }
   ],
   "source": [
    "aa_2[\"Aptenodytes forsteri\"]"
   ]
  },
  {
   "cell_type": "code",
   "execution_count": 60,
   "id": "8a0bca46",
   "metadata": {},
   "outputs": [
    {
     "data": {
      "text/plain": [
       "0"
      ]
     },
     "execution_count": 60,
     "metadata": {},
     "output_type": "execute_result"
    }
   ],
   "source": [
    "aa_2[\"Aptenodytes forsteri\"].count(\"*\")"
   ]
  },
  {
   "cell_type": "code",
   "execution_count": 61,
   "id": "949b1c23",
   "metadata": {},
   "outputs": [
    {
     "data": {
      "text/plain": [
       "17"
      ]
     },
     "execution_count": 61,
     "metadata": {},
     "output_type": "execute_result"
    }
   ],
   "source": [
    "penguin_seq[\"Aptenodytes forsteri\"].count(\"TAA\")"
   ]
  },
  {
   "cell_type": "code",
   "execution_count": null,
   "id": "0677bd02",
   "metadata": {},
   "outputs": [],
   "source": []
  },
  {
   "cell_type": "code",
   "execution_count": 42,
   "id": "1263f295",
   "metadata": {},
   "outputs": [
    {
     "data": {
      "text/plain": [
       "380.0"
      ]
     },
     "execution_count": 42,
     "metadata": {},
     "output_type": "execute_result"
    }
   ],
   "source": [
    "1143-3\n",
    "1140/3"
   ]
  },
  {
   "cell_type": "code",
   "execution_count": 35,
   "id": "ad19df4c",
   "metadata": {},
   "outputs": [
    {
     "data": {
      "text/plain": [
       "380"
      ]
     },
     "execution_count": 35,
     "metadata": {},
     "output_type": "execute_result"
    }
   ],
   "source": [
    "len(aa_2[\"Aptenodytes forsteri\"])"
   ]
  },
  {
   "cell_type": "code",
   "execution_count": 9,
   "id": "e8cfd3a8",
   "metadata": {},
   "outputs": [],
   "source": [
    "\n",
    "\n",
    "######################## Python Translate Script ########################\n",
    "\n",
    "## Here's the start of our Python script. Thanks for completing it for me! - Dr. X\n",
    "## IMPORTANT: install BioPython so that this will work\n",
    "\n",
    "\n",
    "#%%%%%%%%%%%%%%%#\n",
    "### FUNCTIONS ###\n",
    "#%%%%%%%%%%%%%%%#\n",
    "\n",
    "\n",
    "\n",
    "\n",
    "## 3 ##\n",
    "####### YOUR ALTERNATIVE FUNCTION ########\n",
    "## Is there a better way to write the translation function? (Hint: yes there is.) \n",
    "## Perhaps using available BioPython library utilities?\n",
    "## Please also write this function.\n",
    "\n",
    "\n",
    "## 4 ##\n",
    "####### YOUR COUNT AA ANALYSIS FUNCTION ########\n",
    "## Write a function that calculates the molecular weight of each amino acid sequence.\n",
    "## For this, you can use some BioPython functions. I think you can use the ProtParam module.\n",
    "## For more info, check this out: http://biopython.org/wiki/ProtParam\n",
    "## So you should import the following before defining your function:\n",
    "from Bio.SeqUtils.ProtParam import ProteinAnalysis\n",
    "# def compute_molecular_weight(aa_seq):\n",
    "#     # I think the ProtParam functions may require aa_seq to be a string.\n",
    "#     # It may not work if the amino acid sequence has stop codons.\n",
    "#     run the ProteinAnalysis() function on aa_seq\n",
    "#\t  return the molecular weight\n",
    "\n",
    "## 5 ##\n",
    "####### YOUR GC CONTENT ANALYSIS FUNCTION ########\n",
    "## Write a function that calculates the GC-content (proportion of \"G\" and \"C\") of each DNA sequence and returns this value.\n",
    "\n",
    "\n",
    "#%%%%%%%%%%%%%%#\n",
    "###   MAIN   ###\n",
    "#%%%%%%%%%%%%%%#\n",
    "\n",
    "cytb_seqs = get_sequences_from_file(\"penguins_cytb.fasta\") \n",
    "\n",
    "penguins_df = pd.read_csv(\"penguins_mass.csv\") # Includes only data for body mass \n",
    "species_list = list(penguins_df.species)\n",
    "\n",
    "## 6 ## \n",
    "## Add two new columns to the penguin DataFrame: (1) molecular weight and (2) GC content.\n",
    "## Set the value to 'NaN' to indicate that these cells are currently empty.\n",
    "\n",
    "## 7 ##\n",
    "## Write a for-loop that translates each sequence and also gets molecular weight and computes the GC content\n",
    "## of each translated sequence and adds those data to DataFrame\n",
    "# for key, value in cytb_seqs.items():\n",
    "#     aa_seq = nuc2aa_translate_function(value) # whichever function you prefer of #2 or #3\n",
    "#     get the molecular weight of aa_seq\n",
    "#     get the GC content of the DNA sequence\n",
    "#     fill in empty cells in DF that you created above\n",
    "\n",
    "## 8 ##\n",
    "## Plot a bar-chart of the mass with the x-axes labeled with species names.\n",
    "## *Q1* What is the smallest penguin species? \n",
    "## *Q2* What is the geographical range of this species?\n",
    "\n",
    "## 9 ##\n",
    "## Plot a visualization of the molecular weight (y-axis) as a function of GC-content (x-axis).\n",
    "\n",
    "## 10 ##\n",
    "## Save the new DataFrame to a file called \"penguins_mass_cytb.csv\"\n",
    "\n",
    "## 11 - BONUS ##\n",
    "## What else can we do with this dataset in Python? \n",
    "## Add functions or anything that might be interesting and fun. (optional)\n",
    "\n"
   ]
  },
  {
   "cell_type": "code",
   "execution_count": 302,
   "id": "6626dec4",
   "metadata": {},
   "outputs": [],
   "source": [
    "def gpt_dna(dna_dict):\n",
    "    \"\"\"\n",
    "    This function takes in a dictionary of DNA sequences and returns a dictionary of translated amino acid sequences\n",
    "    \"\"\"\n",
    "    # dictionary to store the translated amino acid sequences\n",
    "    aa_dict = {}\n",
    "    codon_table = CodonTable.unambiguous_dna_by_name[\"Vertebrate Mitochondrial\"]\n",
    "    \n",
    "    # loop through each DNA sequence in the dictionary\n",
    "    for name, sequence in dna_dict.items():\n",
    "        # initialize the translated sequence as an empty string\n",
    "        aa_sequence = \"\"\n",
    "        # loop through the sequence, reading three bases at a time\n",
    "        for i in range(0, len(sequence), 3):\n",
    "            # extract the current codon\n",
    "            codon = sequence[i:i+3]\n",
    "            # look up the corresponding amino acid in the codon table\n",
    "            aa = codon_table.forward_table[codon]\n",
    "            \n",
    "            # add the amino acid to the translated sequence, unless it is a stop codon\n",
    "            if aa != '*':\n",
    "                aa_sequence += aa\n",
    "            else:\n",
    "                break\n",
    "        # store the translated sequence in the dictionary\n",
    "        aa_dict[name] = aa_sequence\n",
    "        \n",
    "    return aa_dict\n"
   ]
  },
  {
   "cell_type": "code",
   "execution_count": 303,
   "id": "77ba7a75",
   "metadata": {},
   "outputs": [
    {
     "name": "stdout",
     "output_type": "stream",
     "text": [
      "Collecting package metadata (current_repodata.json): done\n",
      "Solving environment: done\n",
      "\n",
      "\n",
      "==> WARNING: A newer version of conda exists. <==\n",
      "  current version: 22.9.0\n",
      "  latest version: 23.3.1\n",
      "\n",
      "Please update conda by running\n",
      "\n",
      "    $ conda update -n base -c defaults conda\n",
      "\n",
      "\n",
      "\n",
      "# All requested packages already installed.\n",
      "\n",
      "Retrieving notices: ...working... done\n",
      "\n",
      "Note: you may need to restart the kernel to use updated packages.\n"
     ]
    }
   ],
   "source": [
    "conda install biopython\n"
   ]
  }
 ],
 "metadata": {
  "kernelspec": {
   "display_name": "Python 3 (ipykernel)",
   "language": "python",
   "name": "python3"
  },
  "language_info": {
   "codemirror_mode": {
    "name": "ipython",
    "version": 3
   },
   "file_extension": ".py",
   "mimetype": "text/x-python",
   "name": "python",
   "nbconvert_exporter": "python",
   "pygments_lexer": "ipython3",
   "version": "3.9.13"
  }
 },
 "nbformat": 4,
 "nbformat_minor": 5
}
