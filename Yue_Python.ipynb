{
 "cells": [
  {
   "cell_type": "markdown",
   "id": "b47c67ac",
   "metadata": {},
   "source": [
    "# BCB 546  Python Assignment"
   ]
  },
  {
   "cell_type": "markdown",
   "id": "6816b34d",
   "metadata": {},
   "source": [
    "## Dependency\n",
    "\n",
    "BioPython\n"
   ]
  },
  {
   "cell_type": "markdown",
   "id": "3b932f47",
   "metadata": {},
   "source": [
    "\n",
    "## Task 1: Get sequence from fasta files\n",
    "\n"
   ]
  },
  {
   "cell_type": "markdown",
   "id": "2553d23f",
   "metadata": {},
   "source": [
    "### Function: get_sequences_from_file(fasta_fn)\n",
    "\n",
    "**Description:** Get sequence from a fasta file into dictionary format\n",
    "\n",
    "**Arguments:**\n",
    "\n",
    "* fasta_fn: fasta file\n",
    "\n",
    "**Return:** dictionaries, containing sequences with their species names\n"
   ]
  },
  {
   "cell_type": "code",
   "execution_count": 1,
   "id": "6698aa93",
   "metadata": {},
   "outputs": [],
   "source": [
    "from Bio import SeqIO\n",
    "\n",
    "def get_sequences_from_file(fasta_fn):           # define a function\n",
    "    sequence_data_dict = {}                      # return sequence data in dictionary format \n",
    "    \n",
    "    for record in SeqIO.parse(fasta_fn, \"fasta\"):# a for-loop over every record of the fasta file, discription and sequence are seperated\n",
    "        description = record.description.split() # split the discription of the record\n",
    "        species_name = description[1] + \" \" + description[2] # define species names with 1st and 2nd elements in splitted discription\n",
    "        sequence_data_dict[species_name] = record.seq        # output the sequence with the corrisponding species name\n",
    "    return(sequence_data_dict)                   # return each sequence with species name"
   ]
  },
  {
   "cell_type": "code",
   "execution_count": 2,
   "id": "939b57ae",
   "metadata": {},
   "outputs": [],
   "source": [
    "# read the fatsta file with the defined function\n",
    "\n",
    "penguin_seq = get_sequences_from_file(\"penguins_cytb.fasta\")"
   ]
  },
  {
   "cell_type": "code",
   "execution_count": 3,
   "id": "25156378",
   "metadata": {},
   "outputs": [
    {
     "data": {
      "text/plain": [
       "{'Aptenodytes forsteri': Seq('ATGGCCCCAAATCTCCGAAAATCCCATCCCCTCCTAAAAATAATTAATAACTCC...TAA'),\n",
       " 'Aptenodytes patagonicus': Seq('ATGGCCCCAAACCTCCGAAAATCCCATCCTCTCCTAAAAATAATTAATAACTCC...TAA'),\n",
       " 'Eudyptes chrysocome': Seq('ATGGCCCCCAACCTCCGAAAATCCCACCCCCTCCTAAAAACAATCAATAACTCC...TAA'),\n",
       " 'Eudyptes chrysolophus': Seq('ATGGCCCCCAACCTCCGAAAATCCCACCCCCTCCTAAAAACAATCAATAACTCC...TAA'),\n",
       " 'Eudyptes sclateri': Seq('ATGGCCCCCAACCTCCGAAAATCCCACCCCCTCCTAAAAACAATCAATAACTCC...TAA'),\n",
       " 'Eudyptula minor': Seq('ATGGCCCCCAACCTCCGAAAATCTCACCCCCTCCTAAAAATAATCAACAACTCT...TAA'),\n",
       " 'Pygoscelis adeliae': Seq('ATGGCCCCCAACCTCCGAAAATCCCACCCTCTCCTAAAAATAATTAACAACTCC...TAA'),\n",
       " 'Pygoscelis antarctica': Seq('ATGGCCCCCAACCTCCGAAAATCCCACCCTCTCCTAAAAATAATCAACAACTCC...TAG'),\n",
       " 'Pygoscelis papua': Seq('ATGGCCCCCAACCTTCGAAAATCCCACCCTCTCCTAAAAATAATCAACAAATCC...TAG'),\n",
       " 'Spheniscus demersus': Seq('ATGGCCCCCAACCTCCGAAAATCCCACCCTCTCCTAAAAACAATCAACAACTCC...TAA'),\n",
       " 'Spheniscus humboldti': Seq('ATGGCCCCCAACCTCCGAAAATCCCACCCTCTCCTAAAAACAATCAACAACTCC...TAA'),\n",
       " 'Spheniscus magellanicus': Seq('ATGGCCCCCAACCTCCGAAAATCCCACCCTCTCCTAAAAACAATCAACAACTCC...TAA')}"
      ]
     },
     "execution_count": 3,
     "metadata": {},
     "output_type": "execute_result"
    }
   ],
   "source": [
    "# inspection of the read file\n",
    "penguin_seq"
   ]
  },
  {
   "cell_type": "code",
   "execution_count": 4,
   "id": "1e154ae5",
   "metadata": {},
   "outputs": [
    {
     "data": {
      "text/plain": [
       "dict"
      ]
     },
     "execution_count": 4,
     "metadata": {},
     "output_type": "execute_result"
    }
   ],
   "source": [
    "len(penguin_seq)\n",
    "\n",
    "type(penguin_seq)"
   ]
  },
  {
   "cell_type": "markdown",
   "id": "7bd223d9",
   "metadata": {},
   "source": [
    "## Task 2: Translate DNA to AA\n",
    "\n",
    "### Function: dna_to_aa(dna_string)\n",
    "\n",
    "**Description:** translate DNA sequence into amino acids, return a string\n",
    "\n",
    "**Arguments:**\n",
    "\n",
    "* dna_string: string that contains DNA sequence\n",
    "**Return:** sting, containing aa sequence\n",
    "\n"
   ]
  },
  {
   "cell_type": "code",
   "execution_count": 5,
   "id": "4d5e8565",
   "metadata": {},
   "outputs": [],
   "source": [
    "from Bio.Data import CodonTable\n",
    "\n",
    "\n",
    "def dna_to_aa(dna_string):\n",
    "    \n",
    "    # using this specific codon table \n",
    "    mito_table = CodonTable.unambiguous_dna_by_name[\"Vertebrate Mitochondrial\"]\n",
    "    \n",
    "    # convert stop codons into asterisks to make sure the following tranlation loop will not choke\n",
    "    mito_table.forward_table[\"TAA\"] = \"*\"\n",
    "    mito_table.forward_table[\"TAG\"] = \"*\"\n",
    "    mito_table.forward_table[\"AGG\"] = \"*\"\n",
    "    mito_table.forward_table[\"AGA\"] = \"*\"\n",
    "    \n",
    "    aa_seq = \"\"\n",
    "   \n",
    "    for i in range(0,len(dna_string),3):\n",
    "        codon = dna_string[i:i+3]                  # through every 3rd position to get codon \n",
    "        aa = mito_table.forward_table[codon]    # retrieve the amino acid\n",
    "        if aa !='*':                            \n",
    "            aa_seq += aa\n",
    "        else:\n",
    "            break\n",
    "        \n",
    "    return aa_seq"
   ]
  },
  {
   "cell_type": "code",
   "execution_count": 6,
   "id": "8be7eae0",
   "metadata": {
    "scrolled": true
   },
   "outputs": [],
   "source": [
    "first_aa = dna_to_aa(penguin_seq['Aptenodytes forsteri'])"
   ]
  },
  {
   "cell_type": "code",
   "execution_count": 7,
   "id": "6502e801",
   "metadata": {
    "scrolled": true
   },
   "outputs": [
    {
     "data": {
      "text/plain": [
       "'MAPNLRKSHPLLKMINNSLIDLPTPSNISAWWNFGSLLGICLTTQILTGLLLAMHYTADTTLAFSSVAHTCRNVQYGWLIRNLHANGASFFFICIYLHIGRGFYYGSYLYKETWNTGIILLLTLMATAFVGYVLPWGQMSFWGATVITNLFSAIPYIGQTLVEWTWGGFSVDNPTLTRFFALHFLLPFMIAGLTLIHLTFLHESGSNNPLGIVANSDKIPFHPYYSTKDILGFALMLLPLTTLALFSPNLLGDPENFTPANPLVTPPHIKPEWYFLFAYAILRSIPNKLGGVLALAASVLILFLIPLLHKSKQRTMAFRPLSQLLFWALVANLIILTWVGSQPVEHPFIIIGQLASLTYFTTLLILFPIAGALENKMLNH'"
      ]
     },
     "execution_count": 7,
     "metadata": {},
     "output_type": "execute_result"
    }
   ],
   "source": [
    "first_aa"
   ]
  },
  {
   "cell_type": "code",
   "execution_count": 8,
   "id": "b09ad615",
   "metadata": {},
   "outputs": [
    {
     "data": {
      "text/plain": [
       "380"
      ]
     },
     "execution_count": 8,
     "metadata": {},
     "output_type": "execute_result"
    }
   ],
   "source": [
    "len(first_aa)"
   ]
  },
  {
   "cell_type": "markdown",
   "id": "4b319e9c",
   "metadata": {},
   "source": [
    "## Task 3:  Alternative way to translate DNA to AA\n",
    "\n",
    "\n",
    "### Functio:  translate_sequences(dna_dict)\n",
    "\n",
    "**Description:** Translate DNA sequence into amino acids in dictionaries\n",
    "\n",
    "**Arguments:**\n",
    "\n",
    "* dna_dict: dictionaries that contain DNA sequences and their names\n",
    "\n",
    "**Return:** dictionaries, containing amino acids sequences with their species names\n",
    "\n",
    "\n",
    "\n",
    "\n",
    "**Reference:** http://biopython.org/DIST/docs/tutorial/Tutorial.html#sec25\n"
   ]
  },
  {
   "cell_type": "code",
   "execution_count": 9,
   "id": "4b123813",
   "metadata": {},
   "outputs": [],
   "source": [
    "from Bio.Seq import Seq\n",
    "\n",
    "def translate_sequences(dna_dict):                 \n",
    "    aa_dict = {}\n",
    "    \n",
    "    for name, dna_seq in dna_dict.items():\n",
    "        aa_seq = dna_seq.translate(to_stop = False)    # leave stop codon off\n",
    "        aa_dict[name] = aa_seq\n",
    "    return aa_dict"
   ]
  },
  {
   "cell_type": "code",
   "execution_count": 10,
   "id": "c2996561",
   "metadata": {
    "scrolled": true
   },
   "outputs": [],
   "source": [
    "aa_3 = translate_sequences(penguin_seq)"
   ]
  },
  {
   "cell_type": "code",
   "execution_count": 11,
   "id": "12147a6c",
   "metadata": {},
   "outputs": [
    {
     "data": {
      "text/plain": [
       "Seq('MAPNLRKSHPLLKIINNSLIDLPTPSNISA**NFGSLLGICLTTQILTGLLLAI...NH*')"
      ]
     },
     "execution_count": 11,
     "metadata": {},
     "output_type": "execute_result"
    }
   ],
   "source": [
    "aa_3['Aptenodytes forsteri']"
   ]
  },
  {
   "cell_type": "code",
   "execution_count": 12,
   "id": "ea7c9c29",
   "metadata": {},
   "outputs": [],
   "source": [
    "penguin_aa = translate_sequences(penguin_seq)"
   ]
  },
  {
   "cell_type": "code",
   "execution_count": 13,
   "id": "bffa9602",
   "metadata": {},
   "outputs": [
    {
     "data": {
      "text/plain": [
       "Seq('MAPNLRKSHPLLKIINNSLIDLPTPSNISA**NFGSLLGICLTTQILTGLLLAI...NH*')"
      ]
     },
     "execution_count": 13,
     "metadata": {},
     "output_type": "execute_result"
    }
   ],
   "source": [
    "aa_3[\"Aptenodytes forsteri\"]"
   ]
  },
  {
   "cell_type": "code",
   "execution_count": 14,
   "id": "40112c43",
   "metadata": {},
   "outputs": [
    {
     "data": {
      "text/plain": [
       "381"
      ]
     },
     "execution_count": 14,
     "metadata": {},
     "output_type": "execute_result"
    }
   ],
   "source": [
    "len(aa_3[\"Aptenodytes forsteri\"])"
   ]
  },
  {
   "cell_type": "markdown",
   "id": "d7d7afc4",
   "metadata": {},
   "source": [
    "## Task 4: Compute protein molecular weight\n",
    "\n",
    "### Function: compute_molecular_weight(aa_string)\n",
    "\n",
    "\n",
    "**Description:** count protein molecular weight\n",
    "\n",
    "**Arguments:**\n",
    "\n",
    "* aa_string: string that contains amino acids sequence\n",
    "\n",
    "**Return:** a number that indicates the molecular weight of a protein sequence\n",
    "\n",
    "\n",
    "**Reference:** https://biopython.org/wiki/ProtParam\n",
    "\n"
   ]
  },
  {
   "cell_type": "code",
   "execution_count": 15,
   "id": "b6f1bc81",
   "metadata": {},
   "outputs": [],
   "source": [
    "from Bio.SeqUtils.ProtParam import ProteinAnalysis\n",
    "\n",
    "def compute_molecular_weight(aa_string):\n",
    "    analysed_aa_seq = ProteinAnalysis(aa_string)      # retrieve protein sequence (string format) from dictionaries to compute molecular weight \n",
    "    aa_weight = analysed_aa_seq.molecular_weight()\n",
    "    return aa_weight"
   ]
  },
  {
   "cell_type": "code",
   "execution_count": 16,
   "id": "646a9e0e",
   "metadata": {},
   "outputs": [
    {
     "data": {
      "text/plain": [
       "Seq('ATGGCCCCAAATCTCCGAAAATCCCATCCCCTCCTAAAAATAATTAATAACTCC...TAA')"
      ]
     },
     "execution_count": 16,
     "metadata": {},
     "output_type": "execute_result"
    }
   ],
   "source": [
    "penguin_seq['Aptenodytes forsteri']"
   ]
  },
  {
   "cell_type": "code",
   "execution_count": 17,
   "id": "f3e72498",
   "metadata": {},
   "outputs": [],
   "source": [
    "first_aa_weight = compute_molecular_weight(first_aa)"
   ]
  },
  {
   "cell_type": "code",
   "execution_count": 18,
   "id": "f60aca0b",
   "metadata": {},
   "outputs": [
    {
     "data": {
      "text/plain": [
       "42459.602100000004"
      ]
     },
     "execution_count": 18,
     "metadata": {},
     "output_type": "execute_result"
    }
   ],
   "source": [
    "first_aa_weight"
   ]
  },
  {
   "cell_type": "markdown",
   "id": "2c60c365",
   "metadata": {},
   "source": [
    "# Task 5: Count GC-content\n",
    "\n",
    "### Function: count_GC_content(dna_string)\n",
    "\n",
    "\n",
    "**Description:** count GC countent of DNA sequences in string format \n",
    "\n",
    "**Arguments:**\n",
    "\n",
    "* dna_string: DNA sequence \n",
    "\n",
    "**Return:** number indicate the GC content of a DNA sequence\n",
    "\n",
    "\n",
    "**Reference:** https://biopython.org/docs/1.75/api/Bio.SeqUtils.html\n",
    "\n"
   ]
  },
  {
   "cell_type": "code",
   "execution_count": 19,
   "id": "def7c4fb",
   "metadata": {},
   "outputs": [],
   "source": [
    "from Bio.SeqUtils import GC\n",
    "\n",
    "def count_GC_content(dna_string):\n",
    "    GC_content = GC(dna_string)\n",
    "    return GC_content"
   ]
  },
  {
   "cell_type": "code",
   "execution_count": 20,
   "id": "b1da6b6d",
   "metadata": {},
   "outputs": [],
   "source": [
    "first_GC = count_GC_content(penguin_seq['Aptenodytes forsteri'])"
   ]
  },
  {
   "cell_type": "code",
   "execution_count": 21,
   "id": "33b0eb0f",
   "metadata": {
    "scrolled": true
   },
   "outputs": [
    {
     "data": {
      "text/plain": [
       "48.38145231846019"
      ]
     },
     "execution_count": 21,
     "metadata": {},
     "output_type": "execute_result"
    }
   ],
   "source": [
    "first_GC"
   ]
  },
  {
   "cell_type": "markdown",
   "id": "ded673f4",
   "metadata": {},
   "source": [
    "# Task 6\n",
    "\n",
    "### Add two new columns to the penguin DataFrame: (1) molecular weight and (2) GC content.\n",
    "###  Set the value to 'NaN' to indicate that these cells are currently empty."
   ]
  },
  {
   "cell_type": "code",
   "execution_count": 22,
   "id": "0fafffa7",
   "metadata": {},
   "outputs": [
    {
     "data": {
      "text/html": [
       "<div>\n",
       "<style scoped>\n",
       "    .dataframe tbody tr th:only-of-type {\n",
       "        vertical-align: middle;\n",
       "    }\n",
       "\n",
       "    .dataframe tbody tr th {\n",
       "        vertical-align: top;\n",
       "    }\n",
       "\n",
       "    .dataframe thead th {\n",
       "        text-align: right;\n",
       "    }\n",
       "</style>\n",
       "<table border=\"1\" class=\"dataframe\">\n",
       "  <thead>\n",
       "    <tr style=\"text-align: right;\">\n",
       "      <th></th>\n",
       "      <th>mass</th>\n",
       "      <th>molecular weight</th>\n",
       "      <th>GC content</th>\n",
       "    </tr>\n",
       "    <tr>\n",
       "      <th>species</th>\n",
       "      <th></th>\n",
       "      <th></th>\n",
       "      <th></th>\n",
       "    </tr>\n",
       "  </thead>\n",
       "  <tbody>\n",
       "    <tr>\n",
       "      <th>Aptenodytes forsteri</th>\n",
       "      <td>28.00</td>\n",
       "      <td>NaN</td>\n",
       "      <td>NaN</td>\n",
       "    </tr>\n",
       "    <tr>\n",
       "      <th>Aptenodytes patagonicus</th>\n",
       "      <td>13.40</td>\n",
       "      <td>NaN</td>\n",
       "      <td>NaN</td>\n",
       "    </tr>\n",
       "    <tr>\n",
       "      <th>Eudyptes chrysocome</th>\n",
       "      <td>2.80</td>\n",
       "      <td>NaN</td>\n",
       "      <td>NaN</td>\n",
       "    </tr>\n",
       "    <tr>\n",
       "      <th>Eudyptes chrysolophus</th>\n",
       "      <td>4.50</td>\n",
       "      <td>NaN</td>\n",
       "      <td>NaN</td>\n",
       "    </tr>\n",
       "    <tr>\n",
       "      <th>Eudyptes sclateri</th>\n",
       "      <td>4.25</td>\n",
       "      <td>NaN</td>\n",
       "      <td>NaN</td>\n",
       "    </tr>\n",
       "    <tr>\n",
       "      <th>Eudyptula minor</th>\n",
       "      <td>1.60</td>\n",
       "      <td>NaN</td>\n",
       "      <td>NaN</td>\n",
       "    </tr>\n",
       "    <tr>\n",
       "      <th>Pygoscelis adeliae</th>\n",
       "      <td>4.60</td>\n",
       "      <td>NaN</td>\n",
       "      <td>NaN</td>\n",
       "    </tr>\n",
       "    <tr>\n",
       "      <th>Pygoscelis antarctica</th>\n",
       "      <td>4.10</td>\n",
       "      <td>NaN</td>\n",
       "      <td>NaN</td>\n",
       "    </tr>\n",
       "    <tr>\n",
       "      <th>Pygoscelis papua</th>\n",
       "      <td>6.10</td>\n",
       "      <td>NaN</td>\n",
       "      <td>NaN</td>\n",
       "    </tr>\n",
       "    <tr>\n",
       "      <th>Spheniscus demersus</th>\n",
       "      <td>3.20</td>\n",
       "      <td>NaN</td>\n",
       "      <td>NaN</td>\n",
       "    </tr>\n",
       "    <tr>\n",
       "      <th>Spheniscus humboldti</th>\n",
       "      <td>4.75</td>\n",
       "      <td>NaN</td>\n",
       "      <td>NaN</td>\n",
       "    </tr>\n",
       "    <tr>\n",
       "      <th>Spheniscus magellanicus</th>\n",
       "      <td>3.40</td>\n",
       "      <td>NaN</td>\n",
       "      <td>NaN</td>\n",
       "    </tr>\n",
       "  </tbody>\n",
       "</table>\n",
       "</div>"
      ],
      "text/plain": [
       "                          mass  molecular weight  GC content\n",
       "species                                                     \n",
       "Aptenodytes forsteri     28.00               NaN         NaN\n",
       "Aptenodytes patagonicus  13.40               NaN         NaN\n",
       "Eudyptes chrysocome       2.80               NaN         NaN\n",
       "Eudyptes chrysolophus     4.50               NaN         NaN\n",
       "Eudyptes sclateri         4.25               NaN         NaN\n",
       "Eudyptula minor           1.60               NaN         NaN\n",
       "Pygoscelis adeliae        4.60               NaN         NaN\n",
       "Pygoscelis antarctica     4.10               NaN         NaN\n",
       "Pygoscelis papua          6.10               NaN         NaN\n",
       "Spheniscus demersus       3.20               NaN         NaN\n",
       "Spheniscus humboldti      4.75               NaN         NaN\n",
       "Spheniscus magellanicus   3.40               NaN         NaN"
      ]
     },
     "execution_count": 22,
     "metadata": {},
     "output_type": "execute_result"
    }
   ],
   "source": [
    "import pandas as pd\n",
    "import numpy as np\n",
    "\n",
    "penguins_df = pd.read_csv(\"penguins_mass.csv\")                           # Includes only data for body mass \n",
    "\n",
    "\n",
    "penguins_df = penguins_df.reindex(columns=penguins_df.columns.tolist() + # adding new columns filled with NaN\n",
    "                                  ['molecular weight', 'GC content'])\n",
    "\n",
    "penguins_df = penguins_df.set_index('species')                           # set the first column as row names\n",
    "\n",
    "\n",
    "penguins_df"
   ]
  },
  {
   "cell_type": "markdown",
   "id": "91438510",
   "metadata": {
    "scrolled": false
   },
   "source": [
    "# Task 7 \n",
    "\n",
    "Write a for-loop that translates each sequence and also gets molecular weight and computes the GC contentof each translated sequence and adds those data to DataFrame.\n",
    "\n",
    "Fill in empty cells in DF that you created above."
   ]
  },
  {
   "cell_type": "markdown",
   "id": "dbec58bf",
   "metadata": {},
   "source": [
    "\n",
    "### Function: fill_weight_GC(dna_dict):\n",
    "\n",
    "\n",
    "**Description:** \n",
    "\n",
    "calculate molecular weight and GC countent of DNA sequences in dictionaries\n",
    "append the calculated molecular weight and GC content into corresponding cells in the penguins_df DataFrame\n",
    "\n",
    "**Arguments:**\n",
    "\n",
    "* dna_dict: DNA sequences in dictionaries\n",
    "\n",
    "\n",
    "**Return:** DataFrame\n",
    "\n",
    "\n",
    "**Reference:** \n",
    "\n",
    "https://pandas.pydata.org/docs/reference/api/pandas.DataFrame.at.html\n",
    "\n",
    "https://stackoverflow.com/questions/13842088/set-value-for-particular-cell-in-pandas-dataframe-using-index/24517695#24517695\n"
   ]
  },
  {
   "cell_type": "code",
   "execution_count": 23,
   "id": "4db2f215",
   "metadata": {},
   "outputs": [],
   "source": [
    "cytb_seqs = get_sequences_from_file(\"penguins_cytb.fasta\") # read fasta into dictionaries"
   ]
  },
  {
   "cell_type": "code",
   "execution_count": 24,
   "id": "f6456318",
   "metadata": {},
   "outputs": [],
   "source": [
    "def fill_weight_GC (dna_dict):                         \n",
    "    penguins_df\n",
    "    \n",
    "    for key, value in dna_dict.items():\n",
    "        \n",
    "        dna_seq = value                                   \n",
    "        aa = dna_to_aa(dna_seq)                           # translate DNA to aa sequence\n",
    "        weight = compute_molecular_weight(aa)             # calculate molecular weight\n",
    "        GC = count_GC_content(dna_seq)                    # calculate GC-content\n",
    "        \n",
    "        penguins_df.at[key, 'molecular weight'] = weight  # put the molecular weight to the corresponding cell in the dataframe\n",
    "        penguins_df.at[key, 'GC content'] = GC            # put the GC-content to the corresponding cell in the dataframe\n",
    "         \n",
    "    return penguins_df\n",
    "        "
   ]
  },
  {
   "cell_type": "code",
   "execution_count": 25,
   "id": "4801d0ca",
   "metadata": {},
   "outputs": [
    {
     "data": {
      "text/html": [
       "<div>\n",
       "<style scoped>\n",
       "    .dataframe tbody tr th:only-of-type {\n",
       "        vertical-align: middle;\n",
       "    }\n",
       "\n",
       "    .dataframe tbody tr th {\n",
       "        vertical-align: top;\n",
       "    }\n",
       "\n",
       "    .dataframe thead th {\n",
       "        text-align: right;\n",
       "    }\n",
       "</style>\n",
       "<table border=\"1\" class=\"dataframe\">\n",
       "  <thead>\n",
       "    <tr style=\"text-align: right;\">\n",
       "      <th></th>\n",
       "      <th>mass</th>\n",
       "      <th>molecular weight</th>\n",
       "      <th>GC content</th>\n",
       "    </tr>\n",
       "    <tr>\n",
       "      <th>species</th>\n",
       "      <th></th>\n",
       "      <th></th>\n",
       "      <th></th>\n",
       "    </tr>\n",
       "  </thead>\n",
       "  <tbody>\n",
       "    <tr>\n",
       "      <th>Aptenodytes forsteri</th>\n",
       "      <td>28.00</td>\n",
       "      <td>42459.6021</td>\n",
       "      <td>48.381452</td>\n",
       "    </tr>\n",
       "    <tr>\n",
       "      <th>Aptenodytes patagonicus</th>\n",
       "      <td>13.40</td>\n",
       "      <td>42563.7067</td>\n",
       "      <td>49.693788</td>\n",
       "    </tr>\n",
       "    <tr>\n",
       "      <th>Eudyptes chrysocome</th>\n",
       "      <td>2.80</td>\n",
       "      <td>42475.5753</td>\n",
       "      <td>51.181102</td>\n",
       "    </tr>\n",
       "    <tr>\n",
       "      <th>Eudyptes chrysolophus</th>\n",
       "      <td>4.50</td>\n",
       "      <td>42445.5493</td>\n",
       "      <td>50.918635</td>\n",
       "    </tr>\n",
       "    <tr>\n",
       "      <th>Eudyptes sclateri</th>\n",
       "      <td>4.25</td>\n",
       "      <td>42475.5753</td>\n",
       "      <td>50.831146</td>\n",
       "    </tr>\n",
       "    <tr>\n",
       "      <th>Eudyptula minor</th>\n",
       "      <td>1.60</td>\n",
       "      <td>42491.6408</td>\n",
       "      <td>49.256343</td>\n",
       "    </tr>\n",
       "    <tr>\n",
       "      <th>Pygoscelis adeliae</th>\n",
       "      <td>4.60</td>\n",
       "      <td>42458.6140</td>\n",
       "      <td>49.081365</td>\n",
       "    </tr>\n",
       "    <tr>\n",
       "      <th>Pygoscelis antarctica</th>\n",
       "      <td>4.10</td>\n",
       "      <td>42404.5423</td>\n",
       "      <td>47.769029</td>\n",
       "    </tr>\n",
       "    <tr>\n",
       "      <th>Pygoscelis papua</th>\n",
       "      <td>6.10</td>\n",
       "      <td>42595.8759</td>\n",
       "      <td>47.156605</td>\n",
       "    </tr>\n",
       "    <tr>\n",
       "      <th>Spheniscus demersus</th>\n",
       "      <td>3.20</td>\n",
       "      <td>42431.5490</td>\n",
       "      <td>48.293963</td>\n",
       "    </tr>\n",
       "    <tr>\n",
       "      <th>Spheniscus humboldti</th>\n",
       "      <td>4.75</td>\n",
       "      <td>42399.5520</td>\n",
       "      <td>49.256343</td>\n",
       "    </tr>\n",
       "    <tr>\n",
       "      <th>Spheniscus magellanicus</th>\n",
       "      <td>3.40</td>\n",
       "      <td>42459.6021</td>\n",
       "      <td>48.206474</td>\n",
       "    </tr>\n",
       "  </tbody>\n",
       "</table>\n",
       "</div>"
      ],
      "text/plain": [
       "                          mass  molecular weight  GC content\n",
       "species                                                     \n",
       "Aptenodytes forsteri     28.00        42459.6021   48.381452\n",
       "Aptenodytes patagonicus  13.40        42563.7067   49.693788\n",
       "Eudyptes chrysocome       2.80        42475.5753   51.181102\n",
       "Eudyptes chrysolophus     4.50        42445.5493   50.918635\n",
       "Eudyptes sclateri         4.25        42475.5753   50.831146\n",
       "Eudyptula minor           1.60        42491.6408   49.256343\n",
       "Pygoscelis adeliae        4.60        42458.6140   49.081365\n",
       "Pygoscelis antarctica     4.10        42404.5423   47.769029\n",
       "Pygoscelis papua          6.10        42595.8759   47.156605\n",
       "Spheniscus demersus       3.20        42431.5490   48.293963\n",
       "Spheniscus humboldti      4.75        42399.5520   49.256343\n",
       "Spheniscus magellanicus   3.40        42459.6021   48.206474"
      ]
     },
     "execution_count": 25,
     "metadata": {},
     "output_type": "execute_result"
    }
   ],
   "source": [
    "fill_weight_GC(cytb_seqs)"
   ]
  },
  {
   "cell_type": "code",
   "execution_count": 26,
   "id": "f48a4f55",
   "metadata": {
    "scrolled": true
   },
   "outputs": [
    {
     "data": {
      "text/html": [
       "<div>\n",
       "<style scoped>\n",
       "    .dataframe tbody tr th:only-of-type {\n",
       "        vertical-align: middle;\n",
       "    }\n",
       "\n",
       "    .dataframe tbody tr th {\n",
       "        vertical-align: top;\n",
       "    }\n",
       "\n",
       "    .dataframe thead th {\n",
       "        text-align: right;\n",
       "    }\n",
       "</style>\n",
       "<table border=\"1\" class=\"dataframe\">\n",
       "  <thead>\n",
       "    <tr style=\"text-align: right;\">\n",
       "      <th></th>\n",
       "      <th>species</th>\n",
       "      <th>mass</th>\n",
       "      <th>molecular weight</th>\n",
       "      <th>GC content</th>\n",
       "    </tr>\n",
       "  </thead>\n",
       "  <tbody>\n",
       "    <tr>\n",
       "      <th>0</th>\n",
       "      <td>Aptenodytes forsteri</td>\n",
       "      <td>28.00</td>\n",
       "      <td>42459.6021</td>\n",
       "      <td>48.381452</td>\n",
       "    </tr>\n",
       "    <tr>\n",
       "      <th>1</th>\n",
       "      <td>Aptenodytes patagonicus</td>\n",
       "      <td>13.40</td>\n",
       "      <td>42563.7067</td>\n",
       "      <td>49.693788</td>\n",
       "    </tr>\n",
       "    <tr>\n",
       "      <th>2</th>\n",
       "      <td>Eudyptes chrysocome</td>\n",
       "      <td>2.80</td>\n",
       "      <td>42475.5753</td>\n",
       "      <td>51.181102</td>\n",
       "    </tr>\n",
       "    <tr>\n",
       "      <th>3</th>\n",
       "      <td>Eudyptes chrysolophus</td>\n",
       "      <td>4.50</td>\n",
       "      <td>42445.5493</td>\n",
       "      <td>50.918635</td>\n",
       "    </tr>\n",
       "    <tr>\n",
       "      <th>4</th>\n",
       "      <td>Eudyptes sclateri</td>\n",
       "      <td>4.25</td>\n",
       "      <td>42475.5753</td>\n",
       "      <td>50.831146</td>\n",
       "    </tr>\n",
       "    <tr>\n",
       "      <th>5</th>\n",
       "      <td>Eudyptula minor</td>\n",
       "      <td>1.60</td>\n",
       "      <td>42491.6408</td>\n",
       "      <td>49.256343</td>\n",
       "    </tr>\n",
       "    <tr>\n",
       "      <th>6</th>\n",
       "      <td>Pygoscelis adeliae</td>\n",
       "      <td>4.60</td>\n",
       "      <td>42458.6140</td>\n",
       "      <td>49.081365</td>\n",
       "    </tr>\n",
       "    <tr>\n",
       "      <th>7</th>\n",
       "      <td>Pygoscelis antarctica</td>\n",
       "      <td>4.10</td>\n",
       "      <td>42404.5423</td>\n",
       "      <td>47.769029</td>\n",
       "    </tr>\n",
       "    <tr>\n",
       "      <th>8</th>\n",
       "      <td>Pygoscelis papua</td>\n",
       "      <td>6.10</td>\n",
       "      <td>42595.8759</td>\n",
       "      <td>47.156605</td>\n",
       "    </tr>\n",
       "    <tr>\n",
       "      <th>9</th>\n",
       "      <td>Spheniscus demersus</td>\n",
       "      <td>3.20</td>\n",
       "      <td>42431.5490</td>\n",
       "      <td>48.293963</td>\n",
       "    </tr>\n",
       "    <tr>\n",
       "      <th>10</th>\n",
       "      <td>Spheniscus humboldti</td>\n",
       "      <td>4.75</td>\n",
       "      <td>42399.5520</td>\n",
       "      <td>49.256343</td>\n",
       "    </tr>\n",
       "    <tr>\n",
       "      <th>11</th>\n",
       "      <td>Spheniscus magellanicus</td>\n",
       "      <td>3.40</td>\n",
       "      <td>42459.6021</td>\n",
       "      <td>48.206474</td>\n",
       "    </tr>\n",
       "  </tbody>\n",
       "</table>\n",
       "</div>"
      ],
      "text/plain": [
       "                    species   mass  molecular weight  GC content\n",
       "0      Aptenodytes forsteri  28.00        42459.6021   48.381452\n",
       "1   Aptenodytes patagonicus  13.40        42563.7067   49.693788\n",
       "2       Eudyptes chrysocome   2.80        42475.5753   51.181102\n",
       "3     Eudyptes chrysolophus   4.50        42445.5493   50.918635\n",
       "4         Eudyptes sclateri   4.25        42475.5753   50.831146\n",
       "5           Eudyptula minor   1.60        42491.6408   49.256343\n",
       "6        Pygoscelis adeliae   4.60        42458.6140   49.081365\n",
       "7     Pygoscelis antarctica   4.10        42404.5423   47.769029\n",
       "8          Pygoscelis papua   6.10        42595.8759   47.156605\n",
       "9       Spheniscus demersus   3.20        42431.5490   48.293963\n",
       "10     Spheniscus humboldti   4.75        42399.5520   49.256343\n",
       "11  Spheniscus magellanicus   3.40        42459.6021   48.206474"
      ]
     },
     "execution_count": 26,
     "metadata": {},
     "output_type": "execute_result"
    }
   ],
   "source": [
    "df_for_plot = fill_weight_GC(cytb_seqs) \n",
    "df_for_plot.reset_index(inplace=True)       # covert species names to a coloum\n",
    "df_for_plot"
   ]
  },
  {
   "cell_type": "markdown",
   "id": "a2a5123a",
   "metadata": {},
   "source": [
    "# Task 8\n",
    "\n",
    "Plot a bar-chart of the mass with the x-axes labeled with species names.\n",
    "\n",
    "*Q1* What is the smallest penguin species? \n",
    "\n",
    "## *Q2* What is the geographical range of this species?\n"
   ]
  },
  {
   "cell_type": "code",
   "execution_count": 27,
   "id": "601d0500",
   "metadata": {},
   "outputs": [],
   "source": [
    "import matplotlib.pyplot as plt\n",
    "import seaborn as sns\n",
    "\n",
    "# prepare data for ploting, ordered by mass\n",
    "\n",
    "bar_data = df_for_plot[['species', 'mass']].sort_values(by='mass', ascending=False)"
   ]
  },
  {
   "cell_type": "code",
   "execution_count": 38,
   "id": "aa807e52",
   "metadata": {},
   "outputs": [
    {
     "data": {
      "text/plain": [
       "[Text(0, 0, 'Aptenodytes forsteri'),\n",
       " Text(1, 0, 'Aptenodytes patagonicus'),\n",
       " Text(2, 0, 'Pygoscelis papua'),\n",
       " Text(3, 0, 'Spheniscus humboldti'),\n",
       " Text(4, 0, 'Pygoscelis adeliae'),\n",
       " Text(5, 0, 'Eudyptes chrysolophus'),\n",
       " Text(6, 0, 'Eudyptes sclateri'),\n",
       " Text(7, 0, 'Pygoscelis antarctica'),\n",
       " Text(8, 0, 'Spheniscus magellanicus'),\n",
       " Text(9, 0, 'Spheniscus demersus'),\n",
       " Text(10, 0, 'Eudyptes chrysocome'),\n",
       " Text(11, 0, 'Eudyptula minor')]"
      ]
     },
     "execution_count": 38,
     "metadata": {},
     "output_type": "execute_result"
    },
    {
     "data": {
      "image/png": "[encoded data removed]",
      "text/plain": [
       "<Figure size 640x480 with 1 Axes>"
      ]
     },
     "metadata": {},
     "output_type": "display_data"
    }
   ],
   "source": [
    "bar_plot =  sns.barplot(x = 'species', y = 'mass',data = bar_data, )    # draw bar plot\n",
    "\n",
    "bar_plot.set_xticklabels(bar_plot.get_xticklabels(), rotation = 45,     # rotate x-axis lables for better display\n",
    "                         horizontalalignment='right')   \n",
    "\n",
    "# plt.xticks(rotation = 90)                                             # another way to rotate x-axis lables"
   ]
  },
  {
   "cell_type": "markdown",
   "id": "7741db96",
   "metadata": {},
   "source": [
    "## Task 9 \n",
    "\n",
    "\n",
    "Plot a visualization of the molecular weight (y-axis) as a function of GC-content (x-axis)."
   ]
  },
  {
   "cell_type": "code",
   "execution_count": 44,
   "id": "a7c5f01f",
   "metadata": {},
   "outputs": [
    {
     "data": {
      "image/png": "[encoded data removed]",
      "text/plain": [
       "<Figure size 640x480 with 1 Axes>"
      ]
     },
     "metadata": {},
     "output_type": "display_data"
    }
   ],
   "source": [
    "fig9 = sns.regplot(x='GC content', y='molecular weight', data=df_for_plot)\n",
    "\n",
    "#fig9.set(ylim=(42200, 42800))   # set y-axis limits"
   ]
  },
  {
   "cell_type": "code",
   "execution_count": 43,
   "id": "90d4ff93",
   "metadata": {
    "scrolled": true
   },
   "outputs": [
    {
     "data": {
      "image/png": "[encoded data removed]",
      "text/plain": [
       "<Figure size 640x480 with 1 Axes>"
      ]
     },
     "metadata": {},
     "output_type": "display_data"
    }
   ],
   "source": [
    "#fig9 = sns.barplot(x = 'GC content', y = 'molecular weight', data = df_for_plot)\n",
    "\n",
    "#fig9 = sns.regplot(x = 'GC content', y = 'molecular weight', data = df_for_plot)\n",
    "\n",
    "\n",
    "fig9 = sns.scatterplot(x='GC content', y='molecular weight', data=df_for_plot)\n",
    "\n"
   ]
  },
  {
   "cell_type": "markdown",
   "id": "da02dbe8",
   "metadata": {},
   "source": [
    "## Task 10\n",
    "\n",
    "\n",
    "Save the new DataFrame to a file called \"penguins_mass_cytb.csv\""
   ]
  },
  {
   "cell_type": "code",
   "execution_count": 45,
   "id": "e2024709",
   "metadata": {},
   "outputs": [],
   "source": [
    "df_for_plot.to_csv('penguins_mass_cytb.csv')"
   ]
  },
  {
   "cell_type": "markdown",
   "id": "72976d16",
   "metadata": {},
   "source": [
    "## Task 11 - BONUS \n",
    "\n",
    "What else can we do with this dataset in Python? \n",
    "\n",
    "Add functions or anything that might be interesting and fun. (optional)"
   ]
  }
 ],
 "metadata": {
  "kernelspec": {
   "display_name": "Python 3 (ipykernel)",
   "language": "python",
   "name": "python3"
  },
  "language_info": {
   "codemirror_mode": {
    "name": "ipython",
    "version": 3
   },
   "file_extension": ".py",
   "mimetype": "text/x-python",
   "name": "python",
   "nbconvert_exporter": "python",
   "pygments_lexer": "ipython3",
   "version": "3.9.13"
  }
 },
 "nbformat": 4,
 "nbformat_minor": 5
}
